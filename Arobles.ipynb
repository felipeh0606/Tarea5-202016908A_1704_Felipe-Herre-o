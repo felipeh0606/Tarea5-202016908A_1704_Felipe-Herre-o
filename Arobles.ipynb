{
 "cells": [
  {
   "cell_type": "code",
   "execution_count": 3,
   "id": "abb86db4-e2d3-4820-abcb-52eaba0d8c63",
   "metadata": {},
   "outputs": [
    {
     "name": "stdout",
     "output_type": "stream",
     "text": [
      "Defaulting to user installation because normal site-packages is not writeable\n",
      "Requirement already satisfied: numpy in c:\\programdata\\anaconda3\\lib\\site-packages (1.26.4)\n",
      "Note: you may need to restart the kernel to use updated packages.\n"
     ]
    }
   ],
   "source": [
    "pip install numpy"
   ]
  },
  {
   "cell_type": "code",
   "execution_count": 4,
   "id": "01e9a2a6-289e-4d35-9479-0e687014b05f",
   "metadata": {},
   "outputs": [
    {
     "name": "stdout",
     "output_type": "stream",
     "text": [
      "Defaulting to user installation because normal site-packages is not writeable\n",
      "Requirement already satisfied: pandas in c:\\programdata\\anaconda3\\lib\\site-packages (2.2.2)\n",
      "Requirement already satisfied: numpy>=1.26.0 in c:\\programdata\\anaconda3\\lib\\site-packages (from pandas) (1.26.4)\n",
      "Requirement already satisfied: python-dateutil>=2.8.2 in c:\\programdata\\anaconda3\\lib\\site-packages (from pandas) (2.9.0.post0)\n",
      "Requirement already satisfied: pytz>=2020.1 in c:\\programdata\\anaconda3\\lib\\site-packages (from pandas) (2024.1)\n",
      "Requirement already satisfied: tzdata>=2022.7 in c:\\programdata\\anaconda3\\lib\\site-packages (from pandas) (2023.3)\n",
      "Requirement already satisfied: six>=1.5 in c:\\programdata\\anaconda3\\lib\\site-packages (from python-dateutil>=2.8.2->pandas) (1.16.0)\n",
      "Note: you may need to restart the kernel to use updated packages.\n"
     ]
    }
   ],
   "source": [
    "pip install pandas "
   ]
  },
  {
   "cell_type": "code",
   "execution_count": 5,
   "id": "67d66afe-9df9-40f0-b4c8-afb4dc5c42da",
   "metadata": {},
   "outputs": [
    {
     "name": "stdout",
     "output_type": "stream",
     "text": [
      "Defaulting to user installation because normal site-packages is not writeable\n",
      "Requirement already satisfied: numpy in c:\\programdata\\anaconda3\\lib\\site-packages (1.26.4)\n",
      "Requirement already satisfied: pandas in c:\\programdata\\anaconda3\\lib\\site-packages (2.2.2)\n",
      "Requirement already satisfied: scikit-learn in c:\\users\\felipe herreño\\appdata\\roaming\\python\\python312\\site-packages (1.5.2)\n",
      "Requirement already satisfied: matplotlib in c:\\users\\felipe herreño\\appdata\\roaming\\python\\python312\\site-packages (3.9.2)\n",
      "Requirement already satisfied: python-dateutil>=2.8.2 in c:\\programdata\\anaconda3\\lib\\site-packages (from pandas) (2.9.0.post0)\n",
      "Requirement already satisfied: pytz>=2020.1 in c:\\programdata\\anaconda3\\lib\\site-packages (from pandas) (2024.1)\n",
      "Requirement already satisfied: tzdata>=2022.7 in c:\\programdata\\anaconda3\\lib\\site-packages (from pandas) (2023.3)\n",
      "Requirement already satisfied: scipy>=1.6.0 in c:\\users\\felipe herreño\\appdata\\roaming\\python\\python312\\site-packages (from scikit-learn) (1.14.1)\n",
      "Requirement already satisfied: joblib>=1.2.0 in c:\\users\\felipe herreño\\appdata\\roaming\\python\\python312\\site-packages (from scikit-learn) (1.4.2)\n",
      "Requirement already satisfied: threadpoolctl>=3.1.0 in c:\\users\\felipe herreño\\appdata\\roaming\\python\\python312\\site-packages (from scikit-learn) (3.5.0)\n",
      "Requirement already satisfied: contourpy>=1.0.1 in c:\\programdata\\anaconda3\\lib\\site-packages (from matplotlib) (1.2.0)\n",
      "Requirement already satisfied: cycler>=0.10 in c:\\users\\felipe herreño\\appdata\\roaming\\python\\python312\\site-packages (from matplotlib) (0.12.1)\n",
      "Requirement already satisfied: fonttools>=4.22.0 in c:\\users\\felipe herreño\\appdata\\roaming\\python\\python312\\site-packages (from matplotlib) (4.54.1)\n",
      "Requirement already satisfied: kiwisolver>=1.3.1 in c:\\users\\felipe herreño\\appdata\\roaming\\python\\python312\\site-packages (from matplotlib) (1.4.7)\n",
      "Requirement already satisfied: packaging>=20.0 in c:\\programdata\\anaconda3\\lib\\site-packages (from matplotlib) (23.2)\n",
      "Requirement already satisfied: pillow>=8 in c:\\programdata\\anaconda3\\lib\\site-packages (from matplotlib) (10.3.0)\n",
      "Requirement already satisfied: pyparsing>=2.3.1 in c:\\users\\felipe herreño\\appdata\\roaming\\python\\python312\\site-packages (from matplotlib) (3.2.0)\n",
      "Requirement already satisfied: six>=1.5 in c:\\programdata\\anaconda3\\lib\\site-packages (from python-dateutil>=2.8.2->pandas) (1.16.0)\n",
      "Note: you may need to restart the kernel to use updated packages.\n"
     ]
    }
   ],
   "source": [
    "pip install numpy pandas scikit-learn matplotlib"
   ]
  },
  {
   "cell_type": "code",
   "execution_count": 6,
   "id": "07494205-74f8-4898-a49c-ef634ebd6754",
   "metadata": {},
   "outputs": [],
   "source": [
    "#Importamos las librerias \n",
    "import pandas as pd\n",
    "import numpy as np\n",
    "import seaborn as sns\n",
    "import matplotlib.pyplot as plt\n",
    "from sklearn import metrics\n",
    "from sklearn.model_selection import train_test_split\n",
    "from sklearn.tree import DecisionTreeClassifier, plot_tree\n",
    "from sklearn.metrics import accuracy_score, precision_score, recall_score, f1_score"
   ]
  },
  {
   "cell_type": "code",
   "execution_count": 8,
   "id": "1c8bd2f1-cb97-4d2b-8fd1-e37364ab0601",
   "metadata": {},
   "outputs": [
    {
     "data": {
      "text/html": [
       "<div>\n",
       "<style scoped>\n",
       "    .dataframe tbody tr th:only-of-type {\n",
       "        vertical-align: middle;\n",
       "    }\n",
       "\n",
       "    .dataframe tbody tr th {\n",
       "        vertical-align: top;\n",
       "    }\n",
       "\n",
       "    .dataframe thead th {\n",
       "        text-align: right;\n",
       "    }\n",
       "</style>\n",
       "<table border=\"1\" class=\"dataframe\">\n",
       "  <thead>\n",
       "    <tr style=\"text-align: right;\">\n",
       "      <th></th>\n",
       "      <th>PassengerId</th>\n",
       "      <th>Survived</th>\n",
       "      <th>Pclass</th>\n",
       "      <th>Name</th>\n",
       "      <th>Sex</th>\n",
       "      <th>Age</th>\n",
       "      <th>SibSp</th>\n",
       "      <th>Parch</th>\n",
       "      <th>Ticket</th>\n",
       "      <th>Fare</th>\n",
       "      <th>Cabin</th>\n",
       "      <th>Embarked</th>\n",
       "    </tr>\n",
       "  </thead>\n",
       "  <tbody>\n",
       "    <tr>\n",
       "      <th>0</th>\n",
       "      <td>1</td>\n",
       "      <td>0</td>\n",
       "      <td>3</td>\n",
       "      <td>Braund, Mr. Owen Harris</td>\n",
       "      <td>male</td>\n",
       "      <td>22.0</td>\n",
       "      <td>1</td>\n",
       "      <td>0</td>\n",
       "      <td>A/5 21171</td>\n",
       "      <td>7.2500</td>\n",
       "      <td>NaN</td>\n",
       "      <td>S</td>\n",
       "    </tr>\n",
       "    <tr>\n",
       "      <th>1</th>\n",
       "      <td>2</td>\n",
       "      <td>1</td>\n",
       "      <td>1</td>\n",
       "      <td>Cumings, Mrs. John Bradley (Florence Briggs Th...</td>\n",
       "      <td>female</td>\n",
       "      <td>38.0</td>\n",
       "      <td>1</td>\n",
       "      <td>0</td>\n",
       "      <td>PC 17599</td>\n",
       "      <td>71.2833</td>\n",
       "      <td>C85</td>\n",
       "      <td>C</td>\n",
       "    </tr>\n",
       "    <tr>\n",
       "      <th>2</th>\n",
       "      <td>3</td>\n",
       "      <td>1</td>\n",
       "      <td>3</td>\n",
       "      <td>Heikkinen, Miss. Laina</td>\n",
       "      <td>female</td>\n",
       "      <td>26.0</td>\n",
       "      <td>0</td>\n",
       "      <td>0</td>\n",
       "      <td>STON/O2. 3101282</td>\n",
       "      <td>7.9250</td>\n",
       "      <td>NaN</td>\n",
       "      <td>S</td>\n",
       "    </tr>\n",
       "    <tr>\n",
       "      <th>3</th>\n",
       "      <td>4</td>\n",
       "      <td>1</td>\n",
       "      <td>1</td>\n",
       "      <td>Futrelle, Mrs. Jacques Heath (Lily May Peel)</td>\n",
       "      <td>female</td>\n",
       "      <td>35.0</td>\n",
       "      <td>1</td>\n",
       "      <td>0</td>\n",
       "      <td>113803</td>\n",
       "      <td>53.1000</td>\n",
       "      <td>C123</td>\n",
       "      <td>S</td>\n",
       "    </tr>\n",
       "    <tr>\n",
       "      <th>4</th>\n",
       "      <td>5</td>\n",
       "      <td>0</td>\n",
       "      <td>3</td>\n",
       "      <td>Allen, Mr. William Henry</td>\n",
       "      <td>male</td>\n",
       "      <td>35.0</td>\n",
       "      <td>0</td>\n",
       "      <td>0</td>\n",
       "      <td>373450</td>\n",
       "      <td>8.0500</td>\n",
       "      <td>NaN</td>\n",
       "      <td>S</td>\n",
       "    </tr>\n",
       "  </tbody>\n",
       "</table>\n",
       "</div>"
      ],
      "text/plain": [
       "   PassengerId  Survived  Pclass  \\\n",
       "0            1         0       3   \n",
       "1            2         1       1   \n",
       "2            3         1       3   \n",
       "3            4         1       1   \n",
       "4            5         0       3   \n",
       "\n",
       "                                                Name     Sex   Age  SibSp  \\\n",
       "0                            Braund, Mr. Owen Harris    male  22.0      1   \n",
       "1  Cumings, Mrs. John Bradley (Florence Briggs Th...  female  38.0      1   \n",
       "2                             Heikkinen, Miss. Laina  female  26.0      0   \n",
       "3       Futrelle, Mrs. Jacques Heath (Lily May Peel)  female  35.0      1   \n",
       "4                           Allen, Mr. William Henry    male  35.0      0   \n",
       "\n",
       "   Parch            Ticket     Fare Cabin Embarked  \n",
       "0      0         A/5 21171   7.2500   NaN        S  \n",
       "1      0          PC 17599  71.2833   C85        C  \n",
       "2      0  STON/O2. 3101282   7.9250   NaN        S  \n",
       "3      0            113803  53.1000  C123        S  \n",
       "4      0            373450   8.0500   NaN        S  "
      ]
     },
     "execution_count": 8,
     "metadata": {},
     "output_type": "execute_result"
    }
   ],
   "source": [
    "#Se realiza la identificación del dataset visualizamos que tenemos 12 columnas. \n",
    "data = pd.read_csv(\"Titanic-Dataset.csv\")\n",
    "data.head() "
   ]
  },
  {
   "cell_type": "code",
   "execution_count": 9,
   "id": "ac2063f0-7f69-489e-82f3-a91061d22afd",
   "metadata": {},
   "outputs": [
    {
     "data": {
      "text/plain": [
       "(891, 12)"
      ]
     },
     "execution_count": 9,
     "metadata": {},
     "output_type": "execute_result"
    }
   ],
   "source": [
    "data.shape"
   ]
  },
  {
   "cell_type": "code",
   "execution_count": 10,
   "id": "54f70063-7c9d-467f-8f2e-d734ed568cd5",
   "metadata": {},
   "outputs": [
    {
     "data": {
      "text/html": [
       "<div>\n",
       "<style scoped>\n",
       "    .dataframe tbody tr th:only-of-type {\n",
       "        vertical-align: middle;\n",
       "    }\n",
       "\n",
       "    .dataframe tbody tr th {\n",
       "        vertical-align: top;\n",
       "    }\n",
       "\n",
       "    .dataframe thead th {\n",
       "        text-align: right;\n",
       "    }\n",
       "</style>\n",
       "<table border=\"1\" class=\"dataframe\">\n",
       "  <thead>\n",
       "    <tr style=\"text-align: right;\">\n",
       "      <th></th>\n",
       "      <th>PassengerId</th>\n",
       "      <th>Survived</th>\n",
       "      <th>Pclass</th>\n",
       "      <th>Age</th>\n",
       "      <th>SibSp</th>\n",
       "      <th>Parch</th>\n",
       "      <th>Fare</th>\n",
       "    </tr>\n",
       "  </thead>\n",
       "  <tbody>\n",
       "    <tr>\n",
       "      <th>count</th>\n",
       "      <td>891.000000</td>\n",
       "      <td>891.000000</td>\n",
       "      <td>891.000000</td>\n",
       "      <td>714.000000</td>\n",
       "      <td>891.000000</td>\n",
       "      <td>891.000000</td>\n",
       "      <td>891.000000</td>\n",
       "    </tr>\n",
       "    <tr>\n",
       "      <th>mean</th>\n",
       "      <td>446.000000</td>\n",
       "      <td>0.383838</td>\n",
       "      <td>2.308642</td>\n",
       "      <td>29.699118</td>\n",
       "      <td>0.523008</td>\n",
       "      <td>0.381594</td>\n",
       "      <td>32.204208</td>\n",
       "    </tr>\n",
       "    <tr>\n",
       "      <th>std</th>\n",
       "      <td>257.353842</td>\n",
       "      <td>0.486592</td>\n",
       "      <td>0.836071</td>\n",
       "      <td>14.526497</td>\n",
       "      <td>1.102743</td>\n",
       "      <td>0.806057</td>\n",
       "      <td>49.693429</td>\n",
       "    </tr>\n",
       "    <tr>\n",
       "      <th>min</th>\n",
       "      <td>1.000000</td>\n",
       "      <td>0.000000</td>\n",
       "      <td>1.000000</td>\n",
       "      <td>0.420000</td>\n",
       "      <td>0.000000</td>\n",
       "      <td>0.000000</td>\n",
       "      <td>0.000000</td>\n",
       "    </tr>\n",
       "    <tr>\n",
       "      <th>25%</th>\n",
       "      <td>223.500000</td>\n",
       "      <td>0.000000</td>\n",
       "      <td>2.000000</td>\n",
       "      <td>20.125000</td>\n",
       "      <td>0.000000</td>\n",
       "      <td>0.000000</td>\n",
       "      <td>7.910400</td>\n",
       "    </tr>\n",
       "    <tr>\n",
       "      <th>50%</th>\n",
       "      <td>446.000000</td>\n",
       "      <td>0.000000</td>\n",
       "      <td>3.000000</td>\n",
       "      <td>28.000000</td>\n",
       "      <td>0.000000</td>\n",
       "      <td>0.000000</td>\n",
       "      <td>14.454200</td>\n",
       "    </tr>\n",
       "    <tr>\n",
       "      <th>75%</th>\n",
       "      <td>668.500000</td>\n",
       "      <td>1.000000</td>\n",
       "      <td>3.000000</td>\n",
       "      <td>38.000000</td>\n",
       "      <td>1.000000</td>\n",
       "      <td>0.000000</td>\n",
       "      <td>31.000000</td>\n",
       "    </tr>\n",
       "    <tr>\n",
       "      <th>max</th>\n",
       "      <td>891.000000</td>\n",
       "      <td>1.000000</td>\n",
       "      <td>3.000000</td>\n",
       "      <td>80.000000</td>\n",
       "      <td>8.000000</td>\n",
       "      <td>6.000000</td>\n",
       "      <td>512.329200</td>\n",
       "    </tr>\n",
       "  </tbody>\n",
       "</table>\n",
       "</div>"
      ],
      "text/plain": [
       "       PassengerId    Survived      Pclass         Age       SibSp  \\\n",
       "count   891.000000  891.000000  891.000000  714.000000  891.000000   \n",
       "mean    446.000000    0.383838    2.308642   29.699118    0.523008   \n",
       "std     257.353842    0.486592    0.836071   14.526497    1.102743   \n",
       "min       1.000000    0.000000    1.000000    0.420000    0.000000   \n",
       "25%     223.500000    0.000000    2.000000   20.125000    0.000000   \n",
       "50%     446.000000    0.000000    3.000000   28.000000    0.000000   \n",
       "75%     668.500000    1.000000    3.000000   38.000000    1.000000   \n",
       "max     891.000000    1.000000    3.000000   80.000000    8.000000   \n",
       "\n",
       "            Parch        Fare  \n",
       "count  891.000000  891.000000  \n",
       "mean     0.381594   32.204208  \n",
       "std      0.806057   49.693429  \n",
       "min      0.000000    0.000000  \n",
       "25%      0.000000    7.910400  \n",
       "50%      0.000000   14.454200  \n",
       "75%      0.000000   31.000000  \n",
       "max      6.000000  512.329200  "
      ]
     },
     "execution_count": 10,
     "metadata": {},
     "output_type": "execute_result"
    }
   ],
   "source": [
    "#Obtenemos el resumen estadístico de las variables media, desviación estándar, valor mínimo, máximo y los percentiles.\n",
    "data.describe()"
   ]
  },
  {
   "cell_type": "code",
   "execution_count": 12,
   "id": "4b31f76b-9898-4554-bca4-393022602261",
   "metadata": {},
   "outputs": [
    {
     "data": {
      "text/plain": [
       "PassengerId      0\n",
       "Survived         0\n",
       "Pclass           0\n",
       "Name             0\n",
       "Sex              0\n",
       "Age            177\n",
       "SibSp            0\n",
       "Parch            0\n",
       "Ticket           0\n",
       "Fare             0\n",
       "Cabin          687\n",
       "Embarked         2\n",
       "dtype: int64"
      ]
     },
     "execution_count": 12,
     "metadata": {},
     "output_type": "execute_result"
    }
   ],
   "source": [
    "#Identificamos los valores nulos y visualizamos los resultados.\n",
    "data.isna().sum()"
   ]
  },
  {
   "cell_type": "code",
   "execution_count": 19,
   "id": "b74b719b-de9f-4484-8e04-b6aa13923efe",
   "metadata": {},
   "outputs": [],
   "source": [
    "import matplotlib.pyplot as plt"
   ]
  },
  {
   "cell_type": "code",
   "execution_count": 20,
   "id": "54e862ae-3726-47b3-820e-4d925be73be9",
   "metadata": {},
   "outputs": [
    {
     "name": "stdout",
     "output_type": "stream",
     "text": [
      "Index(['PassengerId', 'Survived', 'Pclass', 'Name', 'Sex', 'Age', 'SibSp',\n",
      "       'Parch', 'Ticket', 'Fare', 'Cabin', 'Embarked'],\n",
      "      dtype='object')\n"
     ]
    }
   ],
   "source": [
    "print(data.columns)"
   ]
  },
  {
   "cell_type": "code",
   "execution_count": 13,
   "id": "83dad283-e237-4604-bdd7-77b0ff1028ed",
   "metadata": {},
   "outputs": [
    {
     "data": {
      "text/plain": [
       "(array([549.,   0.,   0.,   0.,   0.,   0.,   0.,   0.,   0., 342.]),\n",
       " array([0. , 0.1, 0.2, 0.3, 0.4, 0.5, 0.6, 0.7, 0.8, 0.9, 1. ]),\n",
       " <BarContainer object of 10 artists>)"
      ]
     },
     "execution_count": 13,
     "metadata": {},
     "output_type": "execute_result"
    },
    {
     "data": {
      "image/png": "[encoded data removed]",
      "text/plain": [
       "<Figure size 640x480 with 1 Axes>"
      ]
     },
     "metadata": {},
     "output_type": "display_data"
    }
   ],
   "source": [
    "#Con el histograma evidenciamos la cantidad de cada Survived visualizandoque de 0.0 y 1.0 son los de mayor cantidad\n",
    "plt.hist(data.Survived)"
   ]
  },
  {
   "cell_type": "code",
   "execution_count": 88,
   "id": "0fc17710-7bc2-4f34-8b16-62c5592491e5",
   "metadata": {},
   "outputs": [
    {
     "name": "stdout",
     "output_type": "stream",
     "text": [
      "Defaulting to user installation because normal site-packages is not writeableNote: you may need to restart the kernel to use updated packages.\n",
      "\n",
      "Requirement already satisfied: seaborn in c:\\programdata\\anaconda3\\lib\\site-packages (0.13.2)\n",
      "Requirement already satisfied: numpy!=1.24.0,>=1.20 in c:\\programdata\\anaconda3\\lib\\site-packages (from seaborn) (1.26.4)\n",
      "Requirement already satisfied: pandas>=1.2 in c:\\programdata\\anaconda3\\lib\\site-packages (from seaborn) (2.2.2)\n",
      "Requirement already satisfied: matplotlib!=3.6.1,>=3.4 in c:\\users\\felipe herreño\\appdata\\roaming\\python\\python312\\site-packages (from seaborn) (3.9.2)\n",
      "Requirement already satisfied: contourpy>=1.0.1 in c:\\programdata\\anaconda3\\lib\\site-packages (from matplotlib!=3.6.1,>=3.4->seaborn) (1.2.0)\n",
      "Requirement already satisfied: cycler>=0.10 in c:\\users\\felipe herreño\\appdata\\roaming\\python\\python312\\site-packages (from matplotlib!=3.6.1,>=3.4->seaborn) (0.12.1)\n",
      "Requirement already satisfied: fonttools>=4.22.0 in c:\\users\\felipe herreño\\appdata\\roaming\\python\\python312\\site-packages (from matplotlib!=3.6.1,>=3.4->seaborn) (4.54.1)\n",
      "Requirement already satisfied: kiwisolver>=1.3.1 in c:\\users\\felipe herreño\\appdata\\roaming\\python\\python312\\site-packages (from matplotlib!=3.6.1,>=3.4->seaborn) (1.4.7)\n",
      "Requirement already satisfied: packaging>=20.0 in c:\\programdata\\anaconda3\\lib\\site-packages (from matplotlib!=3.6.1,>=3.4->seaborn) (23.2)\n",
      "Requirement already satisfied: pillow>=8 in c:\\programdata\\anaconda3\\lib\\site-packages (from matplotlib!=3.6.1,>=3.4->seaborn) (10.3.0)\n",
      "Requirement already satisfied: pyparsing>=2.3.1 in c:\\users\\felipe herreño\\appdata\\roaming\\python\\python312\\site-packages (from matplotlib!=3.6.1,>=3.4->seaborn) (3.2.0)\n",
      "Requirement already satisfied: python-dateutil>=2.7 in c:\\programdata\\anaconda3\\lib\\site-packages (from matplotlib!=3.6.1,>=3.4->seaborn) (2.9.0.post0)\n",
      "Requirement already satisfied: pytz>=2020.1 in c:\\programdata\\anaconda3\\lib\\site-packages (from pandas>=1.2->seaborn) (2024.1)\n",
      "Requirement already satisfied: tzdata>=2022.7 in c:\\programdata\\anaconda3\\lib\\site-packages (from pandas>=1.2->seaborn) (2023.3)\n",
      "Requirement already satisfied: six>=1.5 in c:\\programdata\\anaconda3\\lib\\site-packages (from python-dateutil>=2.7->matplotlib!=3.6.1,>=3.4->seaborn) (1.16.0)\n"
     ]
    }
   ],
   "source": [
    "pip install seaborn"
   ]
  },
  {
   "cell_type": "code",
   "execution_count": 77,
   "id": "1421bd24-80d1-40c7-b2a2-4c27e217bea7",
   "metadata": {},
   "outputs": [],
   "source": [
    "import seaborn as sns"
   ]
  },
  {
   "cell_type": "code",
   "execution_count": 22,
   "id": "ca427cb6-2a66-45fa-bbb9-88c72c5a2d99",
   "metadata": {},
   "outputs": [
    {
     "data": {
      "text/plain": [
       "<Axes: xlabel='Age', ylabel='Fare'>"
      ]
     },
     "execution_count": 22,
     "metadata": {},
     "output_type": "execute_result"
    },
    {
     "data": {
      "image/png": "[encoded data removed]",
      "text/plain": [
       "<Figure size 640x480 with 1 Axes>"
      ]
     },
     "metadata": {},
     "output_type": "display_data"
    }
   ],
   "source": [
    "#En el diagrama de dispersión observamos el ancho de Age con el largo\n",
    "#de Fare, el ancho se encuentra entre 0 y 80 cm y el largo entre 0 a\n",
    "#500 indicando el tipo de Age. Identificando el valor 0.0 con el mayor ancho\n",
    "#y 1.0 largo. \n",
    "sns.scatterplot(x = \"Age\", y = \"Fare\", hue = \"Survived\", data = data)"
   ]
  },
  {
   "cell_type": "code",
   "execution_count": 23,
   "id": "94c2aa77-96c8-4ebf-8867-235c0ff495dd",
   "metadata": {},
   "outputs": [
    {
     "data": {
      "image/png": "[encoded data removed]",
      "text/plain": [
       "<Figure size 1000x600 with 1 Axes>"
      ]
     },
     "metadata": {},
     "output_type": "display_data"
    }
   ],
   "source": [
    "plt.figure(figsize=(10, 6))\n",
    "sns.boxplot(data=data[['Age', 'SibSp','Fare', 'Survived']])\n",
    "plt.xticks(rotation=45)\n",
    "plt.title('Boxplot de Age y Survived')\n",
    "plt.ylabel('Valores')\n",
    "plt.show()\n",
    "#Identificación de valores atípicos evidenciando que Age, SibSp y Fare tienen valores por encima del máximo"
   ]
  },
  {
   "cell_type": "code",
   "execution_count": 25,
   "id": "2e2a2618-c889-4575-8c02-ed6af9b4b70f",
   "metadata": {},
   "outputs": [],
   "source": [
    "#Dividimos el dataset en 2 y observamos los resultados.\n",
    "predictors_col = [\"Age\", \"SibSp\", \"Fare\"]\n",
    "target_col = ['Survived']"
   ]
  },
  {
   "cell_type": "code",
   "execution_count": 26,
   "id": "d5ac01e6-31a4-4674-8c95-0c6bfab02b54",
   "metadata": {},
   "outputs": [],
   "source": [
    "predictors = data[predictors_col]\n",
    "target = data[target_col]"
   ]
  },
  {
   "cell_type": "code",
   "execution_count": 28,
   "id": "a104e06c-a846-4e30-bd54-804b36725eed",
   "metadata": {},
   "outputs": [
    {
     "data": {
      "text/html": [
       "<div>\n",
       "<style scoped>\n",
       "    .dataframe tbody tr th:only-of-type {\n",
       "        vertical-align: middle;\n",
       "    }\n",
       "\n",
       "    .dataframe tbody tr th {\n",
       "        vertical-align: top;\n",
       "    }\n",
       "\n",
       "    .dataframe thead th {\n",
       "        text-align: right;\n",
       "    }\n",
       "</style>\n",
       "<table border=\"1\" class=\"dataframe\">\n",
       "  <thead>\n",
       "    <tr style=\"text-align: right;\">\n",
       "      <th></th>\n",
       "      <th>Age</th>\n",
       "      <th>SibSp</th>\n",
       "      <th>Fare</th>\n",
       "    </tr>\n",
       "  </thead>\n",
       "  <tbody>\n",
       "    <tr>\n",
       "      <th>0</th>\n",
       "      <td>22.0</td>\n",
       "      <td>1</td>\n",
       "      <td>7.2500</td>\n",
       "    </tr>\n",
       "    <tr>\n",
       "      <th>1</th>\n",
       "      <td>38.0</td>\n",
       "      <td>1</td>\n",
       "      <td>71.2833</td>\n",
       "    </tr>\n",
       "    <tr>\n",
       "      <th>2</th>\n",
       "      <td>26.0</td>\n",
       "      <td>0</td>\n",
       "      <td>7.9250</td>\n",
       "    </tr>\n",
       "    <tr>\n",
       "      <th>3</th>\n",
       "      <td>35.0</td>\n",
       "      <td>1</td>\n",
       "      <td>53.1000</td>\n",
       "    </tr>\n",
       "    <tr>\n",
       "      <th>4</th>\n",
       "      <td>35.0</td>\n",
       "      <td>0</td>\n",
       "      <td>8.0500</td>\n",
       "    </tr>\n",
       "    <tr>\n",
       "      <th>...</th>\n",
       "      <td>...</td>\n",
       "      <td>...</td>\n",
       "      <td>...</td>\n",
       "    </tr>\n",
       "    <tr>\n",
       "      <th>886</th>\n",
       "      <td>27.0</td>\n",
       "      <td>0</td>\n",
       "      <td>13.0000</td>\n",
       "    </tr>\n",
       "    <tr>\n",
       "      <th>887</th>\n",
       "      <td>19.0</td>\n",
       "      <td>0</td>\n",
       "      <td>30.0000</td>\n",
       "    </tr>\n",
       "    <tr>\n",
       "      <th>888</th>\n",
       "      <td>NaN</td>\n",
       "      <td>1</td>\n",
       "      <td>23.4500</td>\n",
       "    </tr>\n",
       "    <tr>\n",
       "      <th>889</th>\n",
       "      <td>26.0</td>\n",
       "      <td>0</td>\n",
       "      <td>30.0000</td>\n",
       "    </tr>\n",
       "    <tr>\n",
       "      <th>890</th>\n",
       "      <td>32.0</td>\n",
       "      <td>0</td>\n",
       "      <td>7.7500</td>\n",
       "    </tr>\n",
       "  </tbody>\n",
       "</table>\n",
       "<p>891 rows × 3 columns</p>\n",
       "</div>"
      ],
      "text/plain": [
       "      Age  SibSp     Fare\n",
       "0    22.0      1   7.2500\n",
       "1    38.0      1  71.2833\n",
       "2    26.0      0   7.9250\n",
       "3    35.0      1  53.1000\n",
       "4    35.0      0   8.0500\n",
       "..    ...    ...      ...\n",
       "886  27.0      0  13.0000\n",
       "887  19.0      0  30.0000\n",
       "888   NaN      1  23.4500\n",
       "889  26.0      0  30.0000\n",
       "890  32.0      0   7.7500\n",
       "\n",
       "[891 rows x 3 columns]"
      ]
     },
     "execution_count": 28,
     "metadata": {},
     "output_type": "execute_result"
    }
   ],
   "source": [
    "predictors"
   ]
  },
  {
   "cell_type": "code",
   "execution_count": 29,
   "id": "5084e772-8f76-4c38-9313-387d9e971898",
   "metadata": {},
   "outputs": [
    {
     "data": {
      "text/html": [
       "<div>\n",
       "<style scoped>\n",
       "    .dataframe tbody tr th:only-of-type {\n",
       "        vertical-align: middle;\n",
       "    }\n",
       "\n",
       "    .dataframe tbody tr th {\n",
       "        vertical-align: top;\n",
       "    }\n",
       "\n",
       "    .dataframe thead th {\n",
       "        text-align: right;\n",
       "    }\n",
       "</style>\n",
       "<table border=\"1\" class=\"dataframe\">\n",
       "  <thead>\n",
       "    <tr style=\"text-align: right;\">\n",
       "      <th></th>\n",
       "      <th>Survived</th>\n",
       "    </tr>\n",
       "  </thead>\n",
       "  <tbody>\n",
       "    <tr>\n",
       "      <th>0</th>\n",
       "      <td>0</td>\n",
       "    </tr>\n",
       "    <tr>\n",
       "      <th>1</th>\n",
       "      <td>1</td>\n",
       "    </tr>\n",
       "    <tr>\n",
       "      <th>2</th>\n",
       "      <td>1</td>\n",
       "    </tr>\n",
       "    <tr>\n",
       "      <th>3</th>\n",
       "      <td>1</td>\n",
       "    </tr>\n",
       "    <tr>\n",
       "      <th>4</th>\n",
       "      <td>0</td>\n",
       "    </tr>\n",
       "    <tr>\n",
       "      <th>...</th>\n",
       "      <td>...</td>\n",
       "    </tr>\n",
       "    <tr>\n",
       "      <th>886</th>\n",
       "      <td>0</td>\n",
       "    </tr>\n",
       "    <tr>\n",
       "      <th>887</th>\n",
       "      <td>1</td>\n",
       "    </tr>\n",
       "    <tr>\n",
       "      <th>888</th>\n",
       "      <td>0</td>\n",
       "    </tr>\n",
       "    <tr>\n",
       "      <th>889</th>\n",
       "      <td>1</td>\n",
       "    </tr>\n",
       "    <tr>\n",
       "      <th>890</th>\n",
       "      <td>0</td>\n",
       "    </tr>\n",
       "  </tbody>\n",
       "</table>\n",
       "<p>891 rows × 1 columns</p>\n",
       "</div>"
      ],
      "text/plain": [
       "     Survived\n",
       "0           0\n",
       "1           1\n",
       "2           1\n",
       "3           1\n",
       "4           0\n",
       "..        ...\n",
       "886         0\n",
       "887         1\n",
       "888         0\n",
       "889         1\n",
       "890         0\n",
       "\n",
       "[891 rows x 1 columns]"
      ]
     },
     "execution_count": 29,
     "metadata": {},
     "output_type": "execute_result"
    }
   ],
   "source": [
    "target"
   ]
  },
  {
   "cell_type": "code",
   "execution_count": 33,
   "id": "e51016fe-3031-4368-8f8e-93c9e2cd69a6",
   "metadata": {},
   "outputs": [
    {
     "data": {
      "text/html": [
       "<div>\n",
       "<style scoped>\n",
       "    .dataframe tbody tr th:only-of-type {\n",
       "        vertical-align: middle;\n",
       "    }\n",
       "\n",
       "    .dataframe tbody tr th {\n",
       "        vertical-align: top;\n",
       "    }\n",
       "\n",
       "    .dataframe thead th {\n",
       "        text-align: right;\n",
       "    }\n",
       "</style>\n",
       "<table border=\"1\" class=\"dataframe\">\n",
       "  <thead>\n",
       "    <tr style=\"text-align: right;\">\n",
       "      <th></th>\n",
       "      <th>Age</th>\n",
       "      <th>SibSp</th>\n",
       "      <th>Fare</th>\n",
       "    </tr>\n",
       "  </thead>\n",
       "  <tbody>\n",
       "    <tr>\n",
       "      <th>Age</th>\n",
       "      <td>1.000000</td>\n",
       "      <td>-0.308247</td>\n",
       "      <td>0.096067</td>\n",
       "    </tr>\n",
       "    <tr>\n",
       "      <th>SibSp</th>\n",
       "      <td>-0.308247</td>\n",
       "      <td>1.000000</td>\n",
       "      <td>0.159651</td>\n",
       "    </tr>\n",
       "    <tr>\n",
       "      <th>Fare</th>\n",
       "      <td>0.096067</td>\n",
       "      <td>0.159651</td>\n",
       "      <td>1.000000</td>\n",
       "    </tr>\n",
       "  </tbody>\n",
       "</table>\n",
       "</div>"
      ],
      "text/plain": [
       "            Age     SibSp      Fare\n",
       "Age    1.000000 -0.308247  0.096067\n",
       "SibSp -0.308247  1.000000  0.159651\n",
       "Fare   0.096067  0.159651  1.000000"
      ]
     },
     "execution_count": 33,
     "metadata": {},
     "output_type": "execute_result"
    }
   ],
   "source": [
    "#Generamos la correlación de las variables numéricas indicando correlación directa si aumenta el largo de Fare aumenta SibSp y Age evidenciando que –0.308 de SibSp son los que menos tienen relación. Visualizando los resultados en la matriz de correlación.\n",
    "corr = predictors.corr()\n",
    "corr"
   ]
  },
  {
   "cell_type": "code",
   "execution_count": 35,
   "id": "638b0285-1cc6-49fd-a456-9c13c19c0f59",
   "metadata": {},
   "outputs": [
    {
     "data": {
      "image/png": "[encoded data removed]",
      "text/plain": [
       "<Figure size 640x480 with 2 Axes>"
      ]
     },
     "metadata": {},
     "output_type": "display_data"
    }
   ],
   "source": [
    "sns.heatmap(corr)\n",
    "plt.title('Matriz de Correlación')\n",
    "plt.show()"
   ]
  },
  {
   "cell_type": "code",
   "execution_count": 37,
   "id": "c9e48bb7-894d-4ec7-aaee-5404e5b87aa2",
   "metadata": {},
   "outputs": [],
   "source": [
    "import pandas as pd\n",
    "\n",
    "data = pd.read_csv('Titanic-Dataset.csv')  "
   ]
  },
  {
   "cell_type": "code",
   "execution_count": 38,
   "id": "4c72e726-faee-4173-98f9-3f6ee1e3e033",
   "metadata": {},
   "outputs": [],
   "source": [
    "import pandas as pd\n",
    "from sklearn.model_selection import train_test_split\n",
    "\n",
    "# Load your dataset\n",
    "data = pd.read_csv('Titanic-Dataset.csv')\n",
    "\n",
    "# Define predictors and target\n",
    "predictors_col = [\"Age\", \"SibSp\", \"Fare\"]\n",
    "target_col = ['Survived']\n",
    "predictors = data[predictors_col]\n",
    "target = data[target_col]\n",
    "\n",
    "# Split the data\n",
    "X_train, X_test, y_train, y_test = train_test_split(predictors, target, test_size=0.2, random_state=13)"
   ]
  },
  {
   "cell_type": "code",
   "execution_count": 39,
   "id": "5b1f7405-6d6b-4461-baf0-47fac00e3019",
   "metadata": {},
   "outputs": [],
   "source": [
    "tree = DecisionTreeClassifier()"
   ]
  },
  {
   "cell_type": "code",
   "execution_count": 40,
   "id": "95f14c8f-4743-4700-81ec-fd8fb02fd791",
   "metadata": {},
   "outputs": [],
   "source": [
    "arbol = tree.fit(X_train, y_train)"
   ]
  },
  {
   "cell_type": "code",
   "execution_count": 41,
   "id": "5a774b2c-952b-4227-822c-b8bde3b3e968",
   "metadata": {},
   "outputs": [
    {
     "data": {
      "text/plain": [
       "[Text(0.7018100792253521, 0.98, 'x[2] <= 48.3\\ngini = 0.473\\nsamples = 712\\nvalue = [439, 273]'),\n",
       " Text(0.5141835387323944, 0.94, 'x[2] <= 10.481\\ngini = 0.435\\nsamples = 576\\nvalue = [392, 184]'),\n",
       " Text(0.6079968089788732, 0.96, 'True  '),\n",
       " Text(0.3159330985915493, 0.9, 'x[0] <= 32.5\\ngini = 0.343\\nsamples = 264\\nvalue = [206, 58]'),\n",
       " Text(0.20933098591549296, 0.86, 'x[2] <= 7.888\\ngini = 0.375\\nsamples = 216\\nvalue = [162, 54]'),\n",
       " Text(0.09471830985915493, 0.82, 'x[2] <= 7.404\\ngini = 0.436\\nsamples = 115\\nvalue = [78, 37]'),\n",
       " Text(0.029577464788732393, 0.78, 'x[0] <= 16.0\\ngini = 0.3\\nsamples = 49\\nvalue = [40, 9]'),\n",
       " Text(0.011267605633802818, 0.74, 'x[1] <= 0.5\\ngini = 0.444\\nsamples = 3\\nvalue = [1, 2]'),\n",
       " Text(0.005633802816901409, 0.7, 'gini = 0.0\\nsamples = 2\\nvalue = [0, 2]'),\n",
       " Text(0.016901408450704224, 0.7, 'gini = 0.0\\nsamples = 1\\nvalue = [1, 0]'),\n",
       " Text(0.04788732394366197, 0.74, 'x[0] <= 19.5\\ngini = 0.258\\nsamples = 46\\nvalue = [39, 7]'),\n",
       " Text(0.028169014084507043, 0.7, 'x[2] <= 7.14\\ngini = 0.147\\nsamples = 25\\nvalue = [23, 2]'),\n",
       " Text(0.022535211267605635, 0.66, 'gini = 0.0\\nsamples = 11\\nvalue = [11, 0]'),\n",
       " Text(0.03380281690140845, 0.66, 'x[2] <= 7.24\\ngini = 0.245\\nsamples = 14\\nvalue = [12, 2]'),\n",
       " Text(0.028169014084507043, 0.62, 'x[1] <= 0.5\\ngini = 0.32\\nsamples = 10\\nvalue = [8, 2]'),\n",
       " Text(0.022535211267605635, 0.58, 'x[2] <= 7.227\\ngini = 0.346\\nsamples = 9\\nvalue = [7, 2]'),\n",
       " Text(0.016901408450704224, 0.54, 'gini = 0.32\\nsamples = 5\\nvalue = [4, 1]'),\n",
       " Text(0.028169014084507043, 0.54, 'gini = 0.375\\nsamples = 4\\nvalue = [3, 1]'),\n",
       " Text(0.03380281690140845, 0.58, 'gini = 0.0\\nsamples = 1\\nvalue = [1, 0]'),\n",
       " Text(0.03943661971830986, 0.62, 'gini = 0.0\\nsamples = 4\\nvalue = [4, 0]'),\n",
       " Text(0.0676056338028169, 0.7, 'x[2] <= 7.013\\ngini = 0.363\\nsamples = 21\\nvalue = [16, 5]'),\n",
       " Text(0.056338028169014086, 0.66, 'x[0] <= 22.5\\ngini = 0.444\\nsamples = 3\\nvalue = [1, 2]'),\n",
       " Text(0.05070422535211268, 0.62, 'gini = 0.0\\nsamples = 1\\nvalue = [1, 0]'),\n",
       " Text(0.061971830985915494, 0.62, 'gini = 0.0\\nsamples = 2\\nvalue = [0, 2]'),\n",
       " Text(0.07887323943661972, 0.66, 'x[0] <= 22.75\\ngini = 0.278\\nsamples = 18\\nvalue = [15, 3]'),\n",
       " Text(0.07323943661971831, 0.62, 'x[2] <= 7.175\\ngini = 0.444\\nsamples = 9\\nvalue = [6, 3]'),\n",
       " Text(0.0676056338028169, 0.58, 'gini = 0.0\\nsamples = 2\\nvalue = [2, 0]'),\n",
       " Text(0.07887323943661972, 0.58, 'x[2] <= 7.227\\ngini = 0.49\\nsamples = 7\\nvalue = [4, 3]'),\n",
       " Text(0.07323943661971831, 0.54, 'gini = 0.0\\nsamples = 1\\nvalue = [0, 1]'),\n",
       " Text(0.08450704225352113, 0.54, 'x[0] <= 20.25\\ngini = 0.444\\nsamples = 6\\nvalue = [4, 2]'),\n",
       " Text(0.07887323943661972, 0.5, 'gini = 0.0\\nsamples = 1\\nvalue = [0, 1]'),\n",
       " Text(0.09014084507042254, 0.5, 'x[0] <= 21.5\\ngini = 0.32\\nsamples = 5\\nvalue = [4, 1]'),\n",
       " Text(0.08450704225352113, 0.46, 'gini = 0.0\\nsamples = 2\\nvalue = [2, 0]'),\n",
       " Text(0.09577464788732394, 0.46, 'x[2] <= 7.24\\ngini = 0.444\\nsamples = 3\\nvalue = [2, 1]'),\n",
       " Text(0.09014084507042254, 0.42, 'gini = 0.0\\nsamples = 1\\nvalue = [1, 0]'),\n",
       " Text(0.10140845070422536, 0.42, 'gini = 0.5\\nsamples = 2\\nvalue = [1, 1]'),\n",
       " Text(0.08450704225352113, 0.62, 'gini = 0.0\\nsamples = 9\\nvalue = [9, 0]'),\n",
       " Text(0.15985915492957747, 0.78, 'x[2] <= 7.877\\ngini = 0.489\\nsamples = 66\\nvalue = [38, 28]'),\n",
       " Text(0.15422535211267605, 0.74, 'x[0] <= 20.5\\ngini = 0.479\\nsamples = 63\\nvalue = [38, 25]'),\n",
       " Text(0.11267605633802817, 0.7, 'x[2] <= 7.573\\ngini = 0.337\\nsamples = 14\\nvalue = [11, 3]'),\n",
       " Text(0.10704225352112676, 0.66, 'gini = 0.0\\nsamples = 1\\nvalue = [0, 1]'),\n",
       " Text(0.11830985915492957, 0.66, 'x[1] <= 0.5\\ngini = 0.26\\nsamples = 13\\nvalue = [11, 2]'),\n",
       " Text(0.10704225352112676, 0.62, 'x[2] <= 7.763\\ngini = 0.165\\nsamples = 11\\nvalue = [10, 1]'),\n",
       " Text(0.10140845070422536, 0.58, 'x[0] <= 17.0\\ngini = 0.444\\nsamples = 3\\nvalue = [2, 1]'),\n",
       " Text(0.09577464788732394, 0.54, 'gini = 0.0\\nsamples = 1\\nvalue = [0, 1]'),\n",
       " Text(0.10704225352112676, 0.54, 'gini = 0.0\\nsamples = 2\\nvalue = [2, 0]'),\n",
       " Text(0.11267605633802817, 0.58, 'gini = 0.0\\nsamples = 8\\nvalue = [8, 0]'),\n",
       " Text(0.1295774647887324, 0.62, 'x[0] <= 18.5\\ngini = 0.5\\nsamples = 2\\nvalue = [1, 1]'),\n",
       " Text(0.12394366197183099, 0.58, 'gini = 0.0\\nsamples = 1\\nvalue = [1, 0]'),\n",
       " Text(0.1352112676056338, 0.58, 'gini = 0.0\\nsamples = 1\\nvalue = [0, 1]'),\n",
       " Text(0.19577464788732393, 0.7, 'x[0] <= 27.5\\ngini = 0.495\\nsamples = 49\\nvalue = [27.0, 22.0]'),\n",
       " Text(0.16056338028169015, 0.66, 'x[2] <= 7.535\\ngini = 0.5\\nsamples = 39\\nvalue = [19, 20]'),\n",
       " Text(0.15492957746478872, 0.62, 'gini = 0.0\\nsamples = 1\\nvalue = [1, 0]'),\n",
       " Text(0.16619718309859155, 0.62, 'x[2] <= 7.792\\ngini = 0.499\\nsamples = 38\\nvalue = [18, 20]'),\n",
       " Text(0.14647887323943662, 0.58, 'x[0] <= 24.0\\ngini = 0.491\\nsamples = 30\\nvalue = [13, 17]'),\n",
       " Text(0.14084507042253522, 0.54, 'gini = 0.0\\nsamples = 5\\nvalue = [0, 5]'),\n",
       " Text(0.15211267605633802, 0.54, 'x[2] <= 7.729\\ngini = 0.499\\nsamples = 25\\nvalue = [13, 12]'),\n",
       " Text(0.14647887323943662, 0.5, 'gini = 0.0\\nsamples = 3\\nvalue = [3, 0]'),\n",
       " Text(0.15774647887323945, 0.5, 'x[0] <= 25.5\\ngini = 0.496\\nsamples = 22\\nvalue = [10, 12]'),\n",
       " Text(0.15211267605633802, 0.46, 'x[0] <= 25.5\\ngini = 0.499\\nsamples = 21\\nvalue = [10, 11]'),\n",
       " Text(0.14647887323943662, 0.42, 'x[0] <= 25.5\\ngini = 0.495\\nsamples = 20\\nvalue = [9, 11]'),\n",
       " Text(0.14084507042253522, 0.38, 'x[2] <= 7.742\\ngini = 0.499\\nsamples = 19\\nvalue = [9, 10]'),\n",
       " Text(0.1352112676056338, 0.34, 'gini = 0.0\\nsamples = 1\\nvalue = [1, 0]'),\n",
       " Text(0.14647887323943662, 0.34, 'x[0] <= 25.5\\ngini = 0.494\\nsamples = 18\\nvalue = [8, 10]'),\n",
       " Text(0.14084507042253522, 0.3, 'x[0] <= 25.5\\ngini = 0.498\\nsamples = 17\\nvalue = [8, 9]'),\n",
       " Text(0.1352112676056338, 0.26, 'x[0] <= 25.5\\ngini = 0.492\\nsamples = 16\\nvalue = [7, 9]'),\n",
       " Text(0.1295774647887324, 0.22, 'x[2] <= 7.763\\ngini = 0.48\\nsamples = 15\\nvalue = [6, 9]'),\n",
       " Text(0.12394366197183099, 0.18, 'gini = 0.5\\nsamples = 12\\nvalue = [6, 6]'),\n",
       " Text(0.1352112676056338, 0.18, 'gini = 0.0\\nsamples = 3\\nvalue = [0, 3]'),\n",
       " Text(0.14084507042253522, 0.22, 'gini = 0.0\\nsamples = 1\\nvalue = [1, 0]'),\n",
       " Text(0.14647887323943662, 0.26, 'gini = 0.0\\nsamples = 1\\nvalue = [1, 0]'),\n",
       " Text(0.15211267605633802, 0.3, 'gini = 0.0\\nsamples = 1\\nvalue = [0, 1]'),\n",
       " Text(0.15211267605633802, 0.38, 'gini = 0.0\\nsamples = 1\\nvalue = [0, 1]'),\n",
       " Text(0.15774647887323945, 0.42, 'gini = 0.0\\nsamples = 1\\nvalue = [1, 0]'),\n",
       " Text(0.16338028169014085, 0.46, 'gini = 0.0\\nsamples = 1\\nvalue = [0, 1]'),\n",
       " Text(0.18591549295774648, 0.58, 'x[0] <= 25.0\\ngini = 0.469\\nsamples = 8\\nvalue = [5, 3]'),\n",
       " Text(0.17464788732394365, 0.54, 'x[0] <= inf\\ngini = 0.375\\nsamples = 4\\nvalue = [3, 1]'),\n",
       " Text(0.16901408450704225, 0.5, 'gini = 0.0\\nsamples = 3\\nvalue = [3, 0]'),\n",
       " Text(0.18028169014084508, 0.5, 'gini = 0.0\\nsamples = 1\\nvalue = [0, 1]'),\n",
       " Text(0.19718309859154928, 0.54, 'x[0] <= 23.5\\ngini = 0.5\\nsamples = 4\\nvalue = [2, 2]'),\n",
       " Text(0.19154929577464788, 0.5, 'gini = 0.0\\nsamples = 2\\nvalue = [2, 0]'),\n",
       " Text(0.2028169014084507, 0.5, 'gini = 0.0\\nsamples = 2\\nvalue = [0, 2]'),\n",
       " Text(0.23098591549295774, 0.66, 'x[0] <= 31.5\\ngini = 0.32\\nsamples = 10\\nvalue = [8, 2]'),\n",
       " Text(0.21971830985915494, 0.62, 'x[2] <= 7.763\\ngini = 0.219\\nsamples = 8\\nvalue = [7, 1]'),\n",
       " Text(0.2140845070422535, 0.58, 'x[0] <= 29.75\\ngini = 0.5\\nsamples = 2\\nvalue = [1, 1]'),\n",
       " Text(0.2084507042253521, 0.54, 'gini = 0.0\\nsamples = 1\\nvalue = [0, 1]'),\n",
       " Text(0.21971830985915494, 0.54, 'gini = 0.0\\nsamples = 1\\nvalue = [1, 0]'),\n",
       " Text(0.22535211267605634, 0.58, 'gini = 0.0\\nsamples = 6\\nvalue = [6, 0]'),\n",
       " Text(0.24225352112676057, 0.62, 'x[2] <= 7.802\\ngini = 0.5\\nsamples = 2\\nvalue = [1, 1]'),\n",
       " Text(0.23661971830985915, 0.58, 'gini = 0.0\\nsamples = 1\\nvalue = [1, 0]'),\n",
       " Text(0.24788732394366197, 0.58, 'gini = 0.0\\nsamples = 1\\nvalue = [0, 1]'),\n",
       " Text(0.16549295774647887, 0.74, 'gini = 0.0\\nsamples = 3\\nvalue = [0, 3]'),\n",
       " Text(0.323943661971831, 0.82, 'x[0] <= 18.5\\ngini = 0.28\\nsamples = 101\\nvalue = [84, 17]'),\n",
       " Text(0.28169014084507044, 0.78, 'x[0] <= 17.5\\ngini = 0.498\\nsamples = 15\\nvalue = [8, 7]'),\n",
       " Text(0.2704225352112676, 0.74, 'x[2] <= 8.59\\ngini = 0.463\\nsamples = 11\\nvalue = [7, 4]'),\n",
       " Text(0.2647887323943662, 0.7, 'x[0] <= inf\\ngini = 0.444\\nsamples = 6\\nvalue = [2, 4]'),\n",
       " Text(0.2591549295774648, 0.66, 'x[0] <= 15.5\\ngini = 0.32\\nsamples = 5\\nvalue = [1, 4]'),\n",
       " Text(0.2535211267605634, 0.62, 'gini = 0.0\\nsamples = 2\\nvalue = [0, 2]'),\n",
       " Text(0.2647887323943662, 0.62, 'x[0] <= 16.5\\ngini = 0.444\\nsamples = 3\\nvalue = [1, 2]'),\n",
       " Text(0.2591549295774648, 0.58, 'gini = 0.5\\nsamples = 2\\nvalue = [1, 1]'),\n",
       " Text(0.2704225352112676, 0.58, 'gini = 0.0\\nsamples = 1\\nvalue = [0, 1]'),\n",
       " Text(0.2704225352112676, 0.66, 'gini = 0.0\\nsamples = 1\\nvalue = [1, 0]'),\n",
       " Text(0.27605633802816903, 0.7, 'gini = 0.0\\nsamples = 5\\nvalue = [5, 0]'),\n",
       " Text(0.29295774647887324, 0.74, 'x[2] <= 8.825\\ngini = 0.375\\nsamples = 4\\nvalue = [1, 3]'),\n",
       " Text(0.28732394366197184, 0.7, 'x[2] <= 8.175\\ngini = 0.5\\nsamples = 2\\nvalue = [1, 1]'),\n",
       " Text(0.28169014084507044, 0.66, 'gini = 0.0\\nsamples = 1\\nvalue = [0, 1]'),\n",
       " Text(0.29295774647887324, 0.66, 'gini = 0.0\\nsamples = 1\\nvalue = [1, 0]'),\n",
       " Text(0.29859154929577464, 0.7, 'gini = 0.0\\nsamples = 2\\nvalue = [0, 2]'),\n",
       " Text(0.36619718309859156, 0.78, 'x[0] <= 30.75\\ngini = 0.206\\nsamples = 86\\nvalue = [76, 10]'),\n",
       " Text(0.3436619718309859, 0.74, 'x[0] <= 25.5\\ngini = 0.14\\nsamples = 79\\nvalue = [73, 6]'),\n",
       " Text(0.3154929577464789, 0.7, 'x[0] <= 19.5\\ngini = 0.064\\nsamples = 60\\nvalue = [58, 2]'),\n",
       " Text(0.30422535211267604, 0.66, 'x[2] <= 7.973\\ngini = 0.278\\nsamples = 6\\nvalue = [5, 1]'),\n",
       " Text(0.29859154929577464, 0.62, 'gini = 0.0\\nsamples = 3\\nvalue = [3, 0]'),\n",
       " Text(0.30985915492957744, 0.62, 'x[2] <= 8.104\\ngini = 0.444\\nsamples = 3\\nvalue = [2, 1]'),\n",
       " Text(0.30422535211267604, 0.58, 'gini = 0.0\\nsamples = 1\\nvalue = [0, 1]'),\n",
       " Text(0.3154929577464789, 0.58, 'gini = 0.0\\nsamples = 2\\nvalue = [2, 0]'),\n",
       " Text(0.3267605633802817, 0.66, 'x[2] <= 8.081\\ngini = 0.036\\nsamples = 54\\nvalue = [53, 1]'),\n",
       " Text(0.3211267605633803, 0.62, 'gini = 0.0\\nsamples = 36\\nvalue = [36, 0]'),\n",
       " Text(0.3323943661971831, 0.62, 'x[2] <= 8.285\\ngini = 0.105\\nsamples = 18\\nvalue = [17, 1]'),\n",
       " Text(0.3267605633802817, 0.58, 'gini = 0.0\\nsamples = 1\\nvalue = [0, 1]'),\n",
       " Text(0.3380281690140845, 0.58, 'gini = 0.0\\nsamples = 17\\nvalue = [17, 0]'),\n",
       " Text(0.37183098591549296, 0.7, 'x[0] <= 29.5\\ngini = 0.332\\nsamples = 19\\nvalue = [15, 4]'),\n",
       " Text(0.36619718309859156, 0.66, 'x[1] <= 0.5\\ngini = 0.391\\nsamples = 15\\nvalue = [11, 4]'),\n",
       " Text(0.36056338028169016, 0.62, 'x[2] <= 7.91\\ngini = 0.426\\nsamples = 13\\nvalue = [9, 4]'),\n",
       " Text(0.3492957746478873, 0.58, 'x[0] <= 28.5\\ngini = 0.278\\nsamples = 6\\nvalue = [5, 1]'),\n",
       " Text(0.3436619718309859, 0.54, 'gini = 0.0\\nsamples = 5\\nvalue = [5, 0]'),\n",
       " Text(0.35492957746478876, 0.54, 'gini = 0.0\\nsamples = 1\\nvalue = [0, 1]'),\n",
       " Text(0.37183098591549296, 0.58, 'x[2] <= 7.988\\ngini = 0.49\\nsamples = 7\\nvalue = [4, 3]'),\n",
       " Text(0.36619718309859156, 0.54, 'gini = 0.0\\nsamples = 1\\nvalue = [0, 1]'),\n",
       " Text(0.37746478873239436, 0.54, 'x[2] <= 8.356\\ngini = 0.444\\nsamples = 6\\nvalue = [4, 2]'),\n",
       " Text(0.37183098591549296, 0.5, 'gini = 0.0\\nsamples = 2\\nvalue = [2, 0]'),\n",
       " Text(0.38309859154929576, 0.5, 'x[0] <= 27.5\\ngini = 0.5\\nsamples = 4\\nvalue = [2, 2]'),\n",
       " Text(0.37746478873239436, 0.46, 'gini = 0.0\\nsamples = 1\\nvalue = [0, 1]'),\n",
       " Text(0.38873239436619716, 0.46, 'x[0] <= 28.5\\ngini = 0.444\\nsamples = 3\\nvalue = [2, 1]'),\n",
       " Text(0.38309859154929576, 0.42, 'gini = 0.0\\nsamples = 1\\nvalue = [1, 0]'),\n",
       " Text(0.39436619718309857, 0.42, 'x[2] <= 9.492\\ngini = 0.5\\nsamples = 2\\nvalue = [1, 1]'),\n",
       " Text(0.38873239436619716, 0.38, 'gini = 0.0\\nsamples = 1\\nvalue = [1, 0]'),\n",
       " Text(0.4, 0.38, 'gini = 0.0\\nsamples = 1\\nvalue = [0, 1]'),\n",
       " Text(0.37183098591549296, 0.62, 'gini = 0.0\\nsamples = 2\\nvalue = [2, 0]'),\n",
       " Text(0.37746478873239436, 0.66, 'gini = 0.0\\nsamples = 4\\nvalue = [4, 0]'),\n",
       " Text(0.38873239436619716, 0.74, 'x[0] <= 31.5\\ngini = 0.49\\nsamples = 7\\nvalue = [3, 4]'),\n",
       " Text(0.38309859154929576, 0.7, 'gini = 0.0\\nsamples = 2\\nvalue = [0, 2]'),\n",
       " Text(0.39436619718309857, 0.7, 'x[2] <= 7.91\\ngini = 0.48\\nsamples = 5\\nvalue = [3, 2]'),\n",
       " Text(0.38873239436619716, 0.66, 'gini = 0.0\\nsamples = 1\\nvalue = [1, 0]'),\n",
       " Text(0.4, 0.66, 'x[2] <= 8.206\\ngini = 0.5\\nsamples = 4\\nvalue = [2, 2]'),\n",
       " Text(0.39436619718309857, 0.62, 'x[2] <= 7.988\\ngini = 0.444\\nsamples = 3\\nvalue = [1, 2]'),\n",
       " Text(0.38873239436619716, 0.58, 'gini = 0.5\\nsamples = 2\\nvalue = [1, 1]'),\n",
       " Text(0.4, 0.58, 'gini = 0.0\\nsamples = 1\\nvalue = [0, 1]'),\n",
       " Text(0.4056338028169014, 0.62, 'gini = 0.0\\nsamples = 1\\nvalue = [1, 0]'),\n",
       " Text(0.4225352112676056, 0.86, 'x[2] <= 7.91\\ngini = 0.153\\nsamples = 48\\nvalue = [44, 4]'),\n",
       " Text(0.4169014084507042, 0.82, 'gini = 0.0\\nsamples = 29\\nvalue = [29, 0]'),\n",
       " Text(0.428169014084507, 0.82, 'x[0] <= 43.5\\ngini = 0.332\\nsamples = 19\\nvalue = [15, 4]'),\n",
       " Text(0.4169014084507042, 0.78, 'x[2] <= 7.988\\ngini = 0.142\\nsamples = 13\\nvalue = [12, 1]'),\n",
       " Text(0.4112676056338028, 0.74, 'x[1] <= 1.0\\ngini = 0.444\\nsamples = 3\\nvalue = [2, 1]'),\n",
       " Text(0.4056338028169014, 0.7, 'gini = 0.5\\nsamples = 2\\nvalue = [1, 1]'),\n",
       " Text(0.4169014084507042, 0.7, 'gini = 0.0\\nsamples = 1\\nvalue = [1, 0]'),\n",
       " Text(0.4225352112676056, 0.74, 'gini = 0.0\\nsamples = 10\\nvalue = [10, 0]'),\n",
       " Text(0.4394366197183099, 0.78, 'x[0] <= 46.0\\ngini = 0.5\\nsamples = 6\\nvalue = [3, 3]'),\n",
       " Text(0.43380281690140843, 0.74, 'gini = 0.0\\nsamples = 2\\nvalue = [0, 2]'),\n",
       " Text(0.4450704225352113, 0.74, 'x[0] <= 59.25\\ngini = 0.375\\nsamples = 4\\nvalue = [3, 1]'),\n",
       " Text(0.4394366197183099, 0.7, 'gini = 0.0\\nsamples = 3\\nvalue = [3, 0]'),\n",
       " Text(0.4507042253521127, 0.7, 'gini = 0.0\\nsamples = 1\\nvalue = [0, 1]'),\n",
       " Text(0.7124339788732394, 0.9, 'x[1] <= 2.5\\ngini = 0.482\\nsamples = 312\\nvalue = [186, 126]'),\n",
       " Text(0.6657130281690141, 0.86, 'x[0] <= 8.5\\ngini = 0.492\\nsamples = 283\\nvalue = [159, 124]'),\n",
       " Text(0.6600792253521127, 0.82, 'gini = 0.0\\nsamples = 22\\nvalue = [0, 22]'),\n",
       " Text(0.6713468309859155, 0.82, 'x[0] <= 55.5\\ngini = 0.476\\nsamples = 261\\nvalue = [159, 102]'),\n",
       " Text(0.6060739436619719, 0.78, 'x[2] <= 39.644\\ngini = 0.484\\nsamples = 243\\nvalue = [143, 100]'),\n",
       " Text(0.6004401408450705, 0.74, 'x[2] <= 18.375\\ngini = 0.487\\nsamples = 239\\nvalue = [139, 100]'),\n",
       " Text(0.5036971830985916, 0.7, 'x[0] <= 17.5\\ngini = 0.46\\nsamples = 120\\nvalue = [77, 43]'),\n",
       " Text(0.428169014084507, 0.66, 'x[2] <= 14.158\\ngini = 0.5\\nsamples = 28\\nvalue = [14, 14]'),\n",
       " Text(0.4169014084507042, 0.62, 'x[2] <= 10.871\\ngini = 0.219\\nsamples = 8\\nvalue = [1, 7]'),\n",
       " Text(0.4112676056338028, 0.58, 'x[0] <= 16.5\\ngini = 0.5\\nsamples = 2\\nvalue = [1, 1]'),\n",
       " Text(0.4056338028169014, 0.54, 'gini = 0.0\\nsamples = 1\\nvalue = [1, 0]'),\n",
       " Text(0.4169014084507042, 0.54, 'gini = 0.0\\nsamples = 1\\nvalue = [0, 1]'),\n",
       " Text(0.4225352112676056, 0.58, 'gini = 0.0\\nsamples = 6\\nvalue = [0, 6]'),\n",
       " Text(0.4394366197183099, 0.62, 'x[1] <= 0.5\\ngini = 0.455\\nsamples = 20\\nvalue = [13, 7]'),\n",
       " Text(0.43380281690140843, 0.58, 'gini = 0.0\\nsamples = 6\\nvalue = [6, 0]'),\n",
       " Text(0.4450704225352113, 0.58, 'x[2] <= 14.852\\ngini = 0.5\\nsamples = 14\\nvalue = [7, 7]'),\n",
       " Text(0.43380281690140843, 0.54, 'x[0] <= 14.75\\ngini = 0.375\\nsamples = 4\\nvalue = [3, 1]'),\n",
       " Text(0.428169014084507, 0.5, 'gini = 0.0\\nsamples = 3\\nvalue = [3, 0]'),\n",
       " Text(0.4394366197183099, 0.5, 'gini = 0.0\\nsamples = 1\\nvalue = [0, 1]'),\n",
       " Text(0.4563380281690141, 0.54, 'x[1] <= 1.5\\ngini = 0.48\\nsamples = 10\\nvalue = [4, 6]'),\n",
       " Text(0.4507042253521127, 0.5, 'x[2] <= 15.373\\ngini = 0.444\\nsamples = 9\\nvalue = [3, 6]'),\n",
       " Text(0.4450704225352113, 0.46, 'gini = 0.5\\nsamples = 2\\nvalue = [1, 1]'),\n",
       " Text(0.4563380281690141, 0.46, 'x[2] <= 16.0\\ngini = 0.408\\nsamples = 7\\nvalue = [2, 5]'),\n",
       " Text(0.4507042253521127, 0.42, 'x[2] <= 15.7\\ngini = 0.32\\nsamples = 5\\nvalue = [1, 4]'),\n",
       " Text(0.4450704225352113, 0.38, 'gini = 0.375\\nsamples = 4\\nvalue = [1, 3]'),\n",
       " Text(0.4563380281690141, 0.38, 'gini = 0.0\\nsamples = 1\\nvalue = [0, 1]'),\n",
       " Text(0.4619718309859155, 0.42, 'gini = 0.5\\nsamples = 2\\nvalue = [1, 1]'),\n",
       " Text(0.4619718309859155, 0.5, 'gini = 0.0\\nsamples = 1\\nvalue = [1, 0]'),\n",
       " Text(0.579225352112676, 0.66, 'x[0] <= 18.5\\ngini = 0.432\\nsamples = 92\\nvalue = [63.0, 29.0]'),\n",
       " Text(0.5735915492957746, 0.62, 'gini = 0.0\\nsamples = 6\\nvalue = [6, 0]'),\n",
       " Text(0.5848591549295775, 0.62, 'x[1] <= 0.5\\ngini = 0.447\\nsamples = 86\\nvalue = [57.0, 29.0]'),\n",
       " Text(0.5556338028169014, 0.58, 'x[2] <= 15.123\\ngini = 0.47\\nsamples = 69\\nvalue = [43, 26]'),\n",
       " Text(0.5309859154929577, 0.54, 'x[0] <= 26.5\\ngini = 0.455\\nsamples = 63\\nvalue = [41, 22]'),\n",
       " Text(0.49859154929577465, 0.5, 'x[0] <= 24.5\\ngini = 0.346\\nsamples = 18\\nvalue = [14, 4]'),\n",
       " Text(0.49295774647887325, 0.46, 'x[2] <= 13.75\\ngini = 0.408\\nsamples = 14\\nvalue = [10, 4]'),\n",
       " Text(0.4788732394366197, 0.42, 'x[0] <= 21.5\\ngini = 0.375\\nsamples = 12\\nvalue = [9, 3]'),\n",
       " Text(0.4676056338028169, 0.38, 'x[0] <= 20.0\\ngini = 0.5\\nsamples = 4\\nvalue = [2, 2]'),\n",
       " Text(0.4619718309859155, 0.34, 'x[2] <= 11.75\\ngini = 0.444\\nsamples = 3\\nvalue = [2, 1]'),\n",
       " Text(0.4563380281690141, 0.3, 'gini = 0.5\\nsamples = 2\\nvalue = [1, 1]'),\n",
       " Text(0.4676056338028169, 0.3, 'gini = 0.0\\nsamples = 1\\nvalue = [1, 0]'),\n",
       " Text(0.4732394366197183, 0.34, 'gini = 0.0\\nsamples = 1\\nvalue = [0, 1]'),\n",
       " Text(0.49014084507042255, 0.38, 'x[0] <= 23.5\\ngini = 0.219\\nsamples = 8\\nvalue = [7, 1]'),\n",
       " Text(0.48450704225352115, 0.34, 'gini = 0.0\\nsamples = 4\\nvalue = [4, 0]'),\n",
       " Text(0.49577464788732395, 0.34, 'x[2] <= 11.75\\ngini = 0.375\\nsamples = 4\\nvalue = [3, 1]'),\n",
       " Text(0.49014084507042255, 0.3, 'gini = 0.0\\nsamples = 1\\nvalue = [1, 0]'),\n",
       " Text(0.5014084507042254, 0.3, 'gini = 0.444\\nsamples = 3\\nvalue = [2, 1]'),\n",
       " Text(0.5070422535211268, 0.42, 'x[0] <= 21.5\\ngini = 0.5\\nsamples = 2\\nvalue = [1, 1]'),\n",
       " Text(0.5014084507042254, 0.38, 'gini = 0.0\\nsamples = 1\\nvalue = [1, 0]'),\n",
       " Text(0.5126760563380282, 0.38, 'gini = 0.0\\nsamples = 1\\nvalue = [0, 1]'),\n",
       " Text(0.504225352112676, 0.46, 'gini = 0.0\\nsamples = 4\\nvalue = [4, 0]'),\n",
       " Text(0.5633802816901409, 0.5, 'x[2] <= 13.25\\ngini = 0.48\\nsamples = 45\\nvalue = [27, 18]'),\n",
       " Text(0.5577464788732395, 0.46, 'x[0] <= 50.5\\ngini = 0.495\\nsamples = 40\\nvalue = [22, 18]'),\n",
       " Text(0.5521126760563381, 0.42, 'x[0] <= 49.0\\ngini = 0.499\\nsamples = 38\\nvalue = [20, 18]'),\n",
       " Text(0.5464788732394367, 0.38, 'x[0] <= 32.75\\ngini = 0.494\\nsamples = 36\\nvalue = [20, 16]'),\n",
       " Text(0.5183098591549296, 0.34, 'x[0] <= 31.5\\ngini = 0.499\\nsamples = 19\\nvalue = [9, 10]'),\n",
       " Text(0.5126760563380282, 0.3, 'x[2] <= 10.817\\ngini = 0.498\\nsamples = 17\\nvalue = [9, 8]'),\n",
       " Text(0.5014084507042254, 0.26, 'x[0] <= 28.5\\ngini = 0.375\\nsamples = 4\\nvalue = [3, 1]'),\n",
       " Text(0.49577464788732395, 0.22, 'gini = 0.0\\nsamples = 1\\nvalue = [1, 0]'),\n",
       " Text(0.5070422535211268, 0.22, 'x[0] <= 30.0\\ngini = 0.444\\nsamples = 3\\nvalue = [2, 1]'),\n",
       " Text(0.5014084507042254, 0.18, 'gini = 0.5\\nsamples = 2\\nvalue = [1, 1]'),\n",
       " Text(0.5126760563380282, 0.18, 'gini = 0.0\\nsamples = 1\\nvalue = [1, 0]'),\n",
       " Text(0.523943661971831, 0.26, 'x[2] <= 12.825\\ngini = 0.497\\nsamples = 13\\nvalue = [6, 7]'),\n",
       " Text(0.5183098591549296, 0.22, 'gini = 0.0\\nsamples = 3\\nvalue = [0, 3]'),\n",
       " Text(0.5295774647887324, 0.22, 'x[0] <= 27.5\\ngini = 0.48\\nsamples = 10\\nvalue = [6, 4]'),\n",
       " Text(0.523943661971831, 0.18, 'gini = 0.0\\nsamples = 2\\nvalue = [2, 0]'),\n",
       " Text(0.5352112676056338, 0.18, 'x[0] <= 30.5\\ngini = 0.5\\nsamples = 8\\nvalue = [4, 4]'),\n",
       " Text(0.5295774647887324, 0.14, 'x[0] <= 29.0\\ngini = 0.49\\nsamples = 7\\nvalue = [4, 3]'),\n",
       " Text(0.523943661971831, 0.1, 'gini = 0.444\\nsamples = 3\\nvalue = [1, 2]'),\n",
       " Text(0.5352112676056338, 0.1, 'gini = 0.375\\nsamples = 4\\nvalue = [3, 1]'),\n",
       " Text(0.5408450704225352, 0.14, 'gini = 0.0\\nsamples = 1\\nvalue = [0, 1]'),\n",
       " Text(0.523943661971831, 0.3, 'gini = 0.0\\nsamples = 2\\nvalue = [0, 2]'),\n",
       " Text(0.5746478873239437, 0.34, 'x[0] <= 33.5\\ngini = 0.457\\nsamples = 17\\nvalue = [11, 6]'),\n",
       " Text(0.5690140845070423, 0.3, 'gini = 0.0\\nsamples = 1\\nvalue = [1, 0]'),\n",
       " Text(0.5802816901408451, 0.3, 'x[0] <= 45.0\\ngini = 0.469\\nsamples = 16\\nvalue = [10, 6]'),\n",
       " Text(0.5746478873239437, 0.26, 'x[0] <= 40.5\\ngini = 0.48\\nsamples = 15\\nvalue = [9, 6]'),\n",
       " Text(0.5690140845070423, 0.22, 'x[0] <= 37.0\\ngini = 0.444\\nsamples = 12\\nvalue = [8, 4]'),\n",
       " Text(0.5633802816901409, 0.18, 'x[2] <= 12.938\\ngini = 0.494\\nsamples = 9\\nvalue = [5, 4]'),\n",
       " Text(0.5521126760563381, 0.14, 'x[0] <= 34.5\\ngini = 0.444\\nsamples = 3\\nvalue = [2, 1]'),\n",
       " Text(0.5464788732394367, 0.1, 'gini = 0.0\\nsamples = 1\\nvalue = [0, 1]'),\n",
       " Text(0.5577464788732395, 0.1, 'gini = 0.0\\nsamples = 2\\nvalue = [2, 0]'),\n",
       " Text(0.5746478873239437, 0.14, 'x[0] <= 35.0\\ngini = 0.5\\nsamples = 6\\nvalue = [3, 3]'),\n",
       " Text(0.5690140845070423, 0.1, 'gini = 0.444\\nsamples = 3\\nvalue = [2, 1]'),\n",
       " Text(0.5802816901408451, 0.1, 'gini = 0.444\\nsamples = 3\\nvalue = [1, 2]'),\n",
       " Text(0.5746478873239437, 0.18, 'gini = 0.0\\nsamples = 3\\nvalue = [3, 0]'),\n",
       " Text(0.5802816901408451, 0.22, 'gini = 0.444\\nsamples = 3\\nvalue = [1, 2]'),\n",
       " Text(0.5859154929577465, 0.26, 'gini = 0.0\\nsamples = 1\\nvalue = [1, 0]'),\n",
       " Text(0.5577464788732395, 0.38, 'gini = 0.0\\nsamples = 2\\nvalue = [0, 2]'),\n",
       " Text(0.5633802816901409, 0.42, 'gini = 0.0\\nsamples = 2\\nvalue = [2, 0]'),\n",
       " Text(0.5690140845070423, 0.46, 'gini = 0.0\\nsamples = 5\\nvalue = [5, 0]'),\n",
       " Text(0.5802816901408451, 0.54, 'x[2] <= 16.05\\ngini = 0.444\\nsamples = 6\\nvalue = [2, 4]'),\n",
       " Text(0.5746478873239437, 0.5, 'gini = 0.0\\nsamples = 3\\nvalue = [0, 3]'),\n",
       " Text(0.5859154929577465, 0.5, 'x[2] <= 16.4\\ngini = 0.444\\nsamples = 3\\nvalue = [2, 1]'),\n",
       " Text(0.5802816901408451, 0.46, 'gini = 0.0\\nsamples = 2\\nvalue = [2, 0]'),\n",
       " Text(0.5915492957746479, 0.46, 'gini = 0.0\\nsamples = 1\\nvalue = [0, 1]'),\n",
       " Text(0.6140845070422535, 0.58, 'x[0] <= 21.5\\ngini = 0.291\\nsamples = 17\\nvalue = [14, 3]'),\n",
       " Text(0.6084507042253521, 0.54, 'gini = 0.0\\nsamples = 1\\nvalue = [0, 1]'),\n",
       " Text(0.6197183098591549, 0.54, 'x[2] <= 14.129\\ngini = 0.219\\nsamples = 16\\nvalue = [14, 2]'),\n",
       " Text(0.6084507042253521, 0.5, 'x[1] <= 1.5\\ngini = 0.5\\nsamples = 2\\nvalue = [1, 1]'),\n",
       " Text(0.6028169014084507, 0.46, 'gini = 0.0\\nsamples = 1\\nvalue = [0, 1]'),\n",
       " Text(0.6140845070422535, 0.46, 'gini = 0.0\\nsamples = 1\\nvalue = [1, 0]'),\n",
       " Text(0.6309859154929578, 0.5, 'x[0] <= 24.5\\ngini = 0.133\\nsamples = 14\\nvalue = [13, 1]'),\n",
       " Text(0.6253521126760564, 0.46, 'x[2] <= 15.975\\ngini = 0.5\\nsamples = 2\\nvalue = [1, 1]'),\n",
       " Text(0.6197183098591549, 0.42, 'gini = 0.0\\nsamples = 1\\nvalue = [0, 1]'),\n",
       " Text(0.6309859154929578, 0.42, 'gini = 0.0\\nsamples = 1\\nvalue = [1, 0]'),\n",
       " Text(0.6366197183098592, 0.46, 'gini = 0.0\\nsamples = 12\\nvalue = [12, 0]'),\n",
       " Text(0.6971830985915493, 0.7, 'x[2] <= 19.733\\ngini = 0.499\\nsamples = 119\\nvalue = [62.0, 57.0]'),\n",
       " Text(0.6859154929577465, 0.66, 'x[0] <= 12.0\\ngini = 0.278\\nsamples = 6\\nvalue = [1, 5]'),\n",
       " Text(0.680281690140845, 0.62, 'gini = 0.0\\nsamples = 1\\nvalue = [1, 0]'),\n",
       " Text(0.6915492957746479, 0.62, 'gini = 0.0\\nsamples = 5\\nvalue = [0, 5]'),\n",
       " Text(0.7084507042253522, 0.66, 'x[2] <= 20.387\\ngini = 0.497\\nsamples = 113\\nvalue = [61.0, 52.0]'),\n",
       " Text(0.7028169014084507, 0.62, 'gini = 0.0\\nsamples = 4\\nvalue = [4, 0]'),\n",
       " Text(0.7140845070422536, 0.62, 'x[0] <= 25.5\\ngini = 0.499\\nsamples = 109\\nvalue = [57, 52]'),\n",
       " Text(0.6704225352112676, 0.58, 'x[2] <= 32.223\\ngini = 0.444\\nsamples = 18\\nvalue = [6, 12]'),\n",
       " Text(0.6591549295774648, 0.54, 'x[2] <= 26.5\\ngini = 0.391\\nsamples = 15\\nvalue = [4, 11]'),\n",
       " Text(0.6535211267605634, 0.5, 'x[2] <= 23.575\\ngini = 0.48\\nsamples = 10\\nvalue = [4, 6]'),\n",
       " Text(0.647887323943662, 0.46, 'gini = 0.0\\nsamples = 2\\nvalue = [0, 2]'),\n",
       " Text(0.6591549295774648, 0.46, 'x[0] <= 17.5\\ngini = 0.5\\nsamples = 8\\nvalue = [4, 4]'),\n",
       " Text(0.6535211267605634, 0.42, 'gini = 0.0\\nsamples = 2\\nvalue = [2, 0]'),\n",
       " Text(0.6647887323943662, 0.42, 'x[2] <= 25.075\\ngini = 0.444\\nsamples = 6\\nvalue = [2, 4]'),\n",
       " Text(0.6591549295774648, 0.38, 'gini = 0.0\\nsamples = 1\\nvalue = [1, 0]'),\n",
       " Text(0.6704225352112676, 0.38, 'x[0] <= 24.5\\ngini = 0.32\\nsamples = 5\\nvalue = [1, 4]'),\n",
       " Text(0.6647887323943662, 0.34, 'gini = 0.0\\nsamples = 3\\nvalue = [0, 3]'),\n",
       " Text(0.676056338028169, 0.34, 'x[1] <= 0.5\\ngini = 0.5\\nsamples = 2\\nvalue = [1, 1]'),\n",
       " Text(0.6704225352112676, 0.3, 'gini = 0.0\\nsamples = 1\\nvalue = [0, 1]'),\n",
       " Text(0.6816901408450704, 0.3, 'gini = 0.0\\nsamples = 1\\nvalue = [1, 0]'),\n",
       " Text(0.6647887323943662, 0.5, 'gini = 0.0\\nsamples = 5\\nvalue = [0, 5]'),\n",
       " Text(0.6816901408450704, 0.54, 'x[1] <= 0.5\\ngini = 0.444\\nsamples = 3\\nvalue = [2, 1]'),\n",
       " Text(0.676056338028169, 0.5, 'gini = 0.0\\nsamples = 1\\nvalue = [0, 1]'),\n",
       " Text(0.6873239436619718, 0.5, 'gini = 0.0\\nsamples = 2\\nvalue = [2, 0]'),\n",
       " Text(0.7577464788732394, 0.58, 'x[2] <= 26.775\\ngini = 0.493\\nsamples = 91\\nvalue = [51, 40]'),\n",
       " Text(0.723943661971831, 0.54, 'x[2] <= 26.269\\ngini = 0.5\\nsamples = 57\\nvalue = [28, 29]'),\n",
       " Text(0.704225352112676, 0.5, 'x[0] <= 28.0\\ngini = 0.483\\nsamples = 44\\nvalue = [26, 18]'),\n",
       " Text(0.6985915492957746, 0.46, 'gini = 0.0\\nsamples = 4\\nvalue = [4, 0]'),\n",
       " Text(0.7098591549295775, 0.46, 'x[2] <= 23.35\\ngini = 0.495\\nsamples = 40\\nvalue = [22, 18]'),\n",
       " Text(0.6873239436619718, 0.42, 'x[0] <= 30.0\\ngini = 0.42\\nsamples = 10\\nvalue = [3, 7]'),\n",
       " Text(0.6816901408450704, 0.38, 'gini = 0.0\\nsamples = 2\\nvalue = [2, 0]'),\n",
       " Text(0.6929577464788732, 0.38, 'x[1] <= 1.5\\ngini = 0.219\\nsamples = 8\\nvalue = [1, 7]'),\n",
       " Text(0.6873239436619718, 0.34, 'gini = 0.0\\nsamples = 5\\nvalue = [0, 5]'),\n",
       " Text(0.6985915492957746, 0.34, 'x[2] <= 22.465\\ngini = 0.444\\nsamples = 3\\nvalue = [1, 2]'),\n",
       " Text(0.6929577464788732, 0.3, 'gini = 0.0\\nsamples = 1\\nvalue = [1, 0]'),\n",
       " Text(0.704225352112676, 0.3, 'gini = 0.0\\nsamples = 2\\nvalue = [0, 2]'),\n",
       " Text(0.7323943661971831, 0.42, 'x[0] <= 33.5\\ngini = 0.464\\nsamples = 30\\nvalue = [19, 11]'),\n",
       " Text(0.7154929577464789, 0.38, 'x[2] <= 26.125\\ngini = 0.278\\nsamples = 6\\nvalue = [1, 5]'),\n",
       " Text(0.7098591549295775, 0.34, 'gini = 0.0\\nsamples = 4\\nvalue = [0, 4]'),\n",
       " Text(0.7211267605633803, 0.34, 'gini = 0.5\\nsamples = 2\\nvalue = [1, 1]'),\n",
       " Text(0.7492957746478873, 0.38, 'x[0] <= 44.5\\ngini = 0.375\\nsamples = 24\\nvalue = [18, 6]'),\n",
       " Text(0.7323943661971831, 0.34, 'x[1] <= 0.5\\ngini = 0.291\\nsamples = 17\\nvalue = [14, 3]'),\n",
       " Text(0.7267605633802817, 0.3, 'gini = 0.0\\nsamples = 6\\nvalue = [6, 0]'),\n",
       " Text(0.7380281690140845, 0.3, 'x[0] <= 42.5\\ngini = 0.397\\nsamples = 11\\nvalue = [8, 3]'),\n",
       " Text(0.7323943661971831, 0.26, 'x[0] <= 39.5\\ngini = 0.469\\nsamples = 8\\nvalue = [5, 3]'),\n",
       " Text(0.7267605633802817, 0.22, 'x[0] <= 35.0\\ngini = 0.408\\nsamples = 7\\nvalue = [5, 2]'),\n",
       " Text(0.7211267605633803, 0.18, 'gini = 0.0\\nsamples = 1\\nvalue = [1, 0]'),\n",
       " Text(0.7323943661971831, 0.18, 'x[0] <= 36.5\\ngini = 0.444\\nsamples = 6\\nvalue = [4, 2]'),\n",
       " Text(0.7267605633802817, 0.14, 'x[2] <= 23.8\\ngini = 0.48\\nsamples = 5\\nvalue = [3, 2]'),\n",
       " Text(0.7211267605633803, 0.1, 'gini = 0.0\\nsamples = 1\\nvalue = [1, 0]'),\n",
       " Text(0.7323943661971831, 0.1, 'x[0] <= 36.5\\ngini = 0.5\\nsamples = 4\\nvalue = [2, 2]'),\n",
       " Text(0.7267605633802817, 0.06, 'x[2] <= 25.075\\ngini = 0.444\\nsamples = 3\\nvalue = [1, 2]'),\n",
       " Text(0.7211267605633803, 0.02, 'gini = 0.5\\nsamples = 2\\nvalue = [1, 1]'),\n",
       " Text(0.7323943661971831, 0.02, 'gini = 0.0\\nsamples = 1\\nvalue = [0, 1]'),\n",
       " Text(0.7380281690140845, 0.06, 'gini = 0.0\\nsamples = 1\\nvalue = [1, 0]'),\n",
       " Text(0.7380281690140845, 0.14, 'gini = 0.0\\nsamples = 1\\nvalue = [1, 0]'),\n",
       " Text(0.7380281690140845, 0.22, 'gini = 0.0\\nsamples = 1\\nvalue = [0, 1]'),\n",
       " Text(0.7436619718309859, 0.26, 'gini = 0.0\\nsamples = 3\\nvalue = [3, 0]'),\n",
       " Text(0.7661971830985915, 0.34, 'x[0] <= 51.5\\ngini = 0.49\\nsamples = 7\\nvalue = [4, 3]'),\n",
       " Text(0.7605633802816901, 0.3, 'x[0] <= 47.5\\ngini = 0.48\\nsamples = 5\\nvalue = [2, 3]'),\n",
       " Text(0.7549295774647887, 0.26, 'x[1] <= 0.5\\ngini = 0.444\\nsamples = 3\\nvalue = [2, 1]'),\n",
       " Text(0.7492957746478873, 0.22, 'gini = 0.0\\nsamples = 2\\nvalue = [2, 0]'),\n",
       " Text(0.7605633802816901, 0.22, 'gini = 0.0\\nsamples = 1\\nvalue = [0, 1]'),\n",
       " Text(0.7661971830985915, 0.26, 'gini = 0.0\\nsamples = 2\\nvalue = [0, 2]'),\n",
       " Text(0.7718309859154929, 0.3, 'gini = 0.0\\nsamples = 2\\nvalue = [2, 0]'),\n",
       " Text(0.7436619718309859, 0.5, 'x[0] <= 43.5\\ngini = 0.26\\nsamples = 13\\nvalue = [2, 11]'),\n",
       " Text(0.7380281690140845, 0.46, 'gini = 0.0\\nsamples = 7\\nvalue = [0, 7]'),\n",
       " Text(0.7492957746478873, 0.46, 'x[0] <= 46.5\\ngini = 0.444\\nsamples = 6\\nvalue = [2, 4]'),\n",
       " Text(0.7436619718309859, 0.42, 'gini = 0.5\\nsamples = 4\\nvalue = [2, 2]'),\n",
       " Text(0.7549295774647887, 0.42, 'gini = 0.0\\nsamples = 2\\nvalue = [0, 2]'),\n",
       " Text(0.7915492957746478, 0.54, 'x[2] <= 29.413\\ngini = 0.438\\nsamples = 34\\nvalue = [23, 11]'),\n",
       " Text(0.7774647887323943, 0.5, 'x[0] <= 43.0\\ngini = 0.153\\nsamples = 12\\nvalue = [11, 1]'),\n",
       " Text(0.7718309859154929, 0.46, 'gini = 0.0\\nsamples = 8\\nvalue = [8, 0]'),\n",
       " Text(0.7830985915492957, 0.46, 'x[0] <= 44.5\\ngini = 0.375\\nsamples = 4\\nvalue = [3, 1]'),\n",
       " Text(0.7774647887323943, 0.42, 'gini = 0.0\\nsamples = 1\\nvalue = [0, 1]'),\n",
       " Text(0.7887323943661971, 0.42, 'gini = 0.0\\nsamples = 3\\nvalue = [3, 0]'),\n",
       " Text(0.8056338028169014, 0.5, 'x[0] <= 27.5\\ngini = 0.496\\nsamples = 22\\nvalue = [12, 10]'),\n",
       " Text(0.8, 0.46, 'gini = 0.0\\nsamples = 2\\nvalue = [0, 2]'),\n",
       " Text(0.8112676056338028, 0.46, 'x[0] <= 47.5\\ngini = 0.48\\nsamples = 20\\nvalue = [12, 8]'),\n",
       " Text(0.8, 0.42, 'x[0] <= 42.5\\ngini = 0.397\\nsamples = 11\\nvalue = [8, 3]'),\n",
       " Text(0.7943661971830986, 0.38, 'x[0] <= 39.5\\ngini = 0.469\\nsamples = 8\\nvalue = [5, 3]'),\n",
       " Text(0.7887323943661971, 0.34, 'x[2] <= 31.331\\ngini = 0.408\\nsamples = 7\\nvalue = [5, 2]'),\n",
       " Text(0.7830985915492957, 0.3, 'gini = 0.0\\nsamples = 3\\nvalue = [3, 0]'),\n",
       " Text(0.7943661971830986, 0.3, 'x[0] <= 34.5\\ngini = 0.5\\nsamples = 4\\nvalue = [2, 2]'),\n",
       " Text(0.7887323943661971, 0.26, 'x[0] <= 29.5\\ngini = 0.444\\nsamples = 3\\nvalue = [2, 1]'),\n",
       " Text(0.7830985915492957, 0.22, 'x[2] <= 34.25\\ngini = 0.5\\nsamples = 2\\nvalue = [1, 1]'),\n",
       " Text(0.7774647887323943, 0.18, 'gini = 0.0\\nsamples = 1\\nvalue = [1, 0]'),\n",
       " Text(0.7887323943661971, 0.18, 'gini = 0.0\\nsamples = 1\\nvalue = [0, 1]'),\n",
       " Text(0.7943661971830986, 0.22, 'gini = 0.0\\nsamples = 1\\nvalue = [1, 0]'),\n",
       " Text(0.8, 0.26, 'gini = 0.0\\nsamples = 1\\nvalue = [0, 1]'),\n",
       " Text(0.8, 0.34, 'gini = 0.0\\nsamples = 1\\nvalue = [0, 1]'),\n",
       " Text(0.8056338028169014, 0.38, 'gini = 0.0\\nsamples = 3\\nvalue = [3, 0]'),\n",
       " Text(0.8225352112676056, 0.42, 'x[0] <= 53.5\\ngini = 0.494\\nsamples = 9\\nvalue = [4, 5]'),\n",
       " Text(0.8169014084507042, 0.38, 'gini = 0.0\\nsamples = 2\\nvalue = [0, 2]'),\n",
       " Text(0.828169014084507, 0.38, 'x[2] <= 30.1\\ngini = 0.49\\nsamples = 7\\nvalue = [4, 3]'),\n",
       " Text(0.8225352112676056, 0.34, 'gini = 0.0\\nsamples = 1\\nvalue = [0, 1]'),\n",
       " Text(0.8338028169014085, 0.34, 'x[2] <= 32.0\\ngini = 0.444\\nsamples = 6\\nvalue = [4, 2]'),\n",
       " Text(0.828169014084507, 0.3, 'gini = 0.0\\nsamples = 3\\nvalue = [3, 0]'),\n",
       " Text(0.8394366197183099, 0.3, 'x[2] <= 37.55\\ngini = 0.444\\nsamples = 3\\nvalue = [1, 2]'),\n",
       " Text(0.8338028169014085, 0.26, 'gini = 0.0\\nsamples = 2\\nvalue = [0, 2]'),\n",
       " Text(0.8450704225352113, 0.26, 'gini = 0.0\\nsamples = 1\\nvalue = [1, 0]'),\n",
       " Text(0.6117077464788733, 0.74, 'gini = 0.0\\nsamples = 4\\nvalue = [4, 0]'),\n",
       " Text(0.7366197183098592, 0.78, 'x[0] <= 75.5\\ngini = 0.198\\nsamples = 18\\nvalue = [16, 2]'),\n",
       " Text(0.7309859154929578, 0.74, 'x[0] <= 58.5\\ngini = 0.111\\nsamples = 17\\nvalue = [16, 1]'),\n",
       " Text(0.7253521126760564, 0.7, 'x[0] <= 57.5\\ngini = 0.278\\nsamples = 6\\nvalue = [5, 1]'),\n",
       " Text(0.719718309859155, 0.66, 'gini = 0.0\\nsamples = 4\\nvalue = [4, 0]'),\n",
       " Text(0.7309859154929578, 0.66, 'x[2] <= 28.125\\ngini = 0.5\\nsamples = 2\\nvalue = [1, 1]'),\n",
       " Text(0.7253521126760564, 0.62, 'gini = 0.0\\nsamples = 1\\nvalue = [0, 1]'),\n",
       " Text(0.7366197183098592, 0.62, 'gini = 0.0\\nsamples = 1\\nvalue = [1, 0]'),\n",
       " Text(0.7366197183098592, 0.7, 'gini = 0.0\\nsamples = 11\\nvalue = [11, 0]'),\n",
       " Text(0.7422535211267606, 0.74, 'gini = 0.0\\nsamples = 1\\nvalue = [0, 1]'),\n",
       " Text(0.7591549295774648, 0.86, 'x[2] <= 21.038\\ngini = 0.128\\nsamples = 29\\nvalue = [27, 2]'),\n",
       " Text(0.7535211267605634, 0.82, 'gini = 0.0\\nsamples = 1\\nvalue = [0, 1]'),\n",
       " Text(0.7647887323943662, 0.82, 'x[0] <= 3.5\\ngini = 0.069\\nsamples = 28\\nvalue = [27, 1]'),\n",
       " Text(0.7591549295774648, 0.78, 'x[0] <= 2.5\\ngini = 0.198\\nsamples = 9\\nvalue = [8, 1]'),\n",
       " Text(0.7535211267605634, 0.74, 'gini = 0.0\\nsamples = 7\\nvalue = [7, 0]'),\n",
       " Text(0.7647887323943662, 0.74, 'x[1] <= 3.5\\ngini = 0.5\\nsamples = 2\\nvalue = [1, 1]'),\n",
       " Text(0.7591549295774648, 0.7, 'gini = 0.0\\nsamples = 1\\nvalue = [1, 0]'),\n",
       " Text(0.7704225352112676, 0.7, 'gini = 0.0\\nsamples = 1\\nvalue = [0, 1]'),\n",
       " Text(0.7704225352112676, 0.78, 'gini = 0.0\\nsamples = 19\\nvalue = [19, 0]'),\n",
       " Text(0.8894366197183099, 0.94, 'x[1] <= 5.5\\ngini = 0.452\\nsamples = 136\\nvalue = [47, 89]'),\n",
       " Text(0.795623349471831, 0.96, '  False'),\n",
       " Text(0.8838028169014085, 0.9, 'x[0] <= 63.0\\ngini = 0.428\\nsamples = 129\\nvalue = [40, 89]'),\n",
       " Text(0.8781690140845071, 0.86, 'x[2] <= 77.623\\ngini = 0.415\\nsamples = 126\\nvalue = [37, 89]'),\n",
       " Text(0.8394366197183099, 0.82, 'x[0] <= 21.5\\ngini = 0.472\\nsamples = 55\\nvalue = [21, 34]'),\n",
       " Text(0.8253521126760563, 0.78, 'x[0] <= 17.5\\ngini = 0.278\\nsamples = 6\\nvalue = [5, 1]'),\n",
       " Text(0.819718309859155, 0.74, 'gini = 0.0\\nsamples = 1\\nvalue = [0, 1]'),\n",
       " Text(0.8309859154929577, 0.74, 'gini = 0.0\\nsamples = 5\\nvalue = [5, 0]'),\n",
       " Text(0.8535211267605634, 0.78, 'x[0] <= 49.5\\ngini = 0.44\\nsamples = 49\\nvalue = [16.0, 33.0]'),\n",
       " Text(0.8422535211267606, 0.74, 'x[1] <= 1.5\\ngini = 0.402\\nsamples = 43\\nvalue = [12.0, 31.0]'),\n",
       " Text(0.8366197183098592, 0.7, 'x[0] <= 27.5\\ngini = 0.369\\nsamples = 41\\nvalue = [10, 31]'),\n",
       " Text(0.8309859154929577, 0.66, 'gini = 0.0\\nsamples = 10\\nvalue = [0, 10]'),\n",
       " Text(0.8422535211267606, 0.66, 'x[0] <= 29.5\\ngini = 0.437\\nsamples = 31\\nvalue = [10, 21]'),\n",
       " Text(0.8366197183098592, 0.62, 'gini = 0.0\\nsamples = 2\\nvalue = [2, 0]'),\n",
       " Text(0.847887323943662, 0.62, 'x[2] <= 52.277\\ngini = 0.4\\nsamples = 29\\nvalue = [8, 21]'),\n",
       " Text(0.8338028169014085, 0.58, 'x[1] <= 0.5\\ngini = 0.494\\nsamples = 9\\nvalue = [5, 4]'),\n",
       " Text(0.828169014084507, 0.54, 'gini = 0.0\\nsamples = 3\\nvalue = [3, 0]'),\n",
       " Text(0.8394366197183099, 0.54, 'x[0] <= 45.0\\ngini = 0.444\\nsamples = 6\\nvalue = [2, 4]'),\n",
       " Text(0.8338028169014085, 0.5, 'x[0] <= 33.0\\ngini = 0.444\\nsamples = 3\\nvalue = [2, 1]'),\n",
       " Text(0.828169014084507, 0.46, 'gini = 0.0\\nsamples = 1\\nvalue = [1, 0]'),\n",
       " Text(0.8394366197183099, 0.46, 'x[0] <= 38.5\\ngini = 0.5\\nsamples = 2\\nvalue = [1, 1]'),\n",
       " Text(0.8338028169014085, 0.42, 'gini = 0.0\\nsamples = 1\\nvalue = [0, 1]'),\n",
       " Text(0.8450704225352113, 0.42, 'gini = 0.0\\nsamples = 1\\nvalue = [1, 0]'),\n",
       " Text(0.8450704225352113, 0.5, 'gini = 0.0\\nsamples = 3\\nvalue = [0, 3]'),\n",
       " Text(0.8619718309859155, 0.58, 'x[0] <= 36.0\\ngini = 0.255\\nsamples = 20\\nvalue = [3, 17]'),\n",
       " Text(0.856338028169014, 0.54, 'gini = 0.0\\nsamples = 7\\nvalue = [0, 7]'),\n",
       " Text(0.8676056338028169, 0.54, 'x[0] <= 37.5\\ngini = 0.355\\nsamples = 13\\nvalue = [3, 10]'),\n",
       " Text(0.856338028169014, 0.5, 'x[2] <= 52.827\\ngini = 0.5\\nsamples = 2\\nvalue = [1, 1]'),\n",
       " Text(0.8507042253521127, 0.46, 'gini = 0.0\\nsamples = 1\\nvalue = [0, 1]'),\n",
       " Text(0.8619718309859155, 0.46, 'gini = 0.0\\nsamples = 1\\nvalue = [1, 0]'),\n",
       " Text(0.8788732394366198, 0.5, 'x[0] <= 45.0\\ngini = 0.298\\nsamples = 11\\nvalue = [2, 9]'),\n",
       " Text(0.8732394366197183, 0.46, 'gini = 0.0\\nsamples = 4\\nvalue = [0, 4]'),\n",
       " Text(0.8845070422535212, 0.46, 'x[0] <= 47.0\\ngini = 0.408\\nsamples = 7\\nvalue = [2, 5]'),\n",
       " Text(0.8788732394366198, 0.42, 'x[2] <= 59.577\\ngini = 0.48\\nsamples = 5\\nvalue = [2, 3]'),\n",
       " Text(0.8732394366197183, 0.38, 'x[0] <= inf\\ngini = 0.375\\nsamples = 4\\nvalue = [1, 3]'),\n",
       " Text(0.8676056338028169, 0.34, 'x[1] <= 0.5\\ngini = 0.5\\nsamples = 2\\nvalue = [1, 1]'),\n",
       " Text(0.8619718309859155, 0.3, 'gini = 0.0\\nsamples = 1\\nvalue = [1, 0]'),\n",
       " Text(0.8732394366197183, 0.3, 'gini = 0.0\\nsamples = 1\\nvalue = [0, 1]'),\n",
       " Text(0.8788732394366198, 0.34, 'gini = 0.0\\nsamples = 2\\nvalue = [0, 2]'),\n",
       " Text(0.8845070422535212, 0.38, 'gini = 0.0\\nsamples = 1\\nvalue = [1, 0]'),\n",
       " Text(0.8901408450704226, 0.42, 'gini = 0.0\\nsamples = 2\\nvalue = [0, 2]'),\n",
       " Text(0.847887323943662, 0.7, 'gini = 0.0\\nsamples = 2\\nvalue = [2, 0]'),\n",
       " Text(0.8647887323943662, 0.74, 'x[1] <= 0.5\\ngini = 0.444\\nsamples = 6\\nvalue = [4, 2]'),\n",
       " Text(0.8591549295774648, 0.7, 'gini = 0.0\\nsamples = 3\\nvalue = [3, 0]'),\n",
       " Text(0.8704225352112676, 0.7, 'x[0] <= 51.5\\ngini = 0.444\\nsamples = 3\\nvalue = [1, 2]'),\n",
       " Text(0.8647887323943662, 0.66, 'gini = 0.0\\nsamples = 1\\nvalue = [1, 0]'),\n",
       " Text(0.8760563380281691, 0.66, 'gini = 0.0\\nsamples = 2\\nvalue = [0, 2]'),\n",
       " Text(0.9169014084507042, 0.82, 'x[0] <= 17.5\\ngini = 0.349\\nsamples = 71\\nvalue = [16, 55]'),\n",
       " Text(0.9112676056338028, 0.78, 'gini = 0.0\\nsamples = 7\\nvalue = [0, 7]'),\n",
       " Text(0.9225352112676056, 0.78, 'x[0] <= 28.5\\ngini = 0.375\\nsamples = 64\\nvalue = [16, 48]'),\n",
       " Text(0.8985915492957747, 0.74, 'x[0] <= 26.5\\ngini = 0.484\\nsamples = 17\\nvalue = [7, 10]'),\n",
       " Text(0.8929577464788733, 0.7, 'x[2] <= 79.025\\ngini = 0.444\\nsamples = 15\\nvalue = [5, 10]'),\n",
       " Text(0.8873239436619719, 0.66, 'gini = 0.0\\nsamples = 2\\nvalue = [0, 2]'),\n",
       " Text(0.8985915492957747, 0.66, 'x[2] <= 79.425\\ngini = 0.473\\nsamples = 13\\nvalue = [5, 8]'),\n",
       " Text(0.8929577464788733, 0.62, 'gini = 0.0\\nsamples = 1\\nvalue = [1, 0]'),\n",
       " Text(0.9042253521126761, 0.62, 'x[2] <= 96.029\\ngini = 0.444\\nsamples = 12\\nvalue = [4, 8]'),\n",
       " Text(0.8985915492957747, 0.58, 'gini = 0.0\\nsamples = 2\\nvalue = [0, 2]'),\n",
       " Text(0.9098591549295775, 0.58, 'x[2] <= 143.592\\ngini = 0.48\\nsamples = 10\\nvalue = [4, 6]'),\n",
       " Text(0.9042253521126761, 0.54, 'gini = 0.0\\nsamples = 2\\nvalue = [2, 0]'),\n",
       " Text(0.9154929577464789, 0.54, 'x[2] <= 237.523\\ngini = 0.375\\nsamples = 8\\nvalue = [2, 6]'),\n",
       " Text(0.9098591549295775, 0.5, 'gini = 0.0\\nsamples = 2\\nvalue = [0, 2]'),\n",
       " Text(0.9211267605633803, 0.5, 'x[2] <= 254.948\\ngini = 0.444\\nsamples = 6\\nvalue = [2, 4]'),\n",
       " Text(0.9154929577464789, 0.46, 'gini = 0.0\\nsamples = 1\\nvalue = [1, 0]'),\n",
       " Text(0.9267605633802817, 0.46, 'x[0] <= 20.0\\ngini = 0.32\\nsamples = 5\\nvalue = [1, 4]'),\n",
       " Text(0.9211267605633803, 0.42, 'x[0] <= 18.5\\ngini = 0.5\\nsamples = 2\\nvalue = [1, 1]'),\n",
       " Text(0.9154929577464789, 0.38, 'gini = 0.0\\nsamples = 1\\nvalue = [0, 1]'),\n",
       " Text(0.9267605633802817, 0.38, 'gini = 0.0\\nsamples = 1\\nvalue = [1, 0]'),\n",
       " Text(0.9323943661971831, 0.42, 'gini = 0.0\\nsamples = 3\\nvalue = [0, 3]'),\n",
       " Text(0.9042253521126761, 0.7, 'gini = 0.0\\nsamples = 2\\nvalue = [2, 0]'),\n",
       " Text(0.9464788732394366, 0.74, 'x[0] <= 43.5\\ngini = 0.31\\nsamples = 47\\nvalue = [9, 38]'),\n",
       " Text(0.9267605633802817, 0.7, 'x[2] <= 144.548\\ngini = 0.087\\nsamples = 22\\nvalue = [1, 21]'),\n",
       " Text(0.9211267605633803, 0.66, 'gini = 0.0\\nsamples = 13\\nvalue = [0, 13]'),\n",
       " Text(0.9323943661971831, 0.66, 'x[2] <= 159.165\\ngini = 0.198\\nsamples = 9\\nvalue = [1, 8]'),\n",
       " Text(0.9267605633802817, 0.62, 'x[0] <= 39.0\\ngini = 0.5\\nsamples = 2\\nvalue = [1, 1]'),\n",
       " Text(0.9211267605633803, 0.58, 'gini = 0.0\\nsamples = 1\\nvalue = [1, 0]'),\n",
       " Text(0.9323943661971831, 0.58, 'gini = 0.0\\nsamples = 1\\nvalue = [0, 1]'),\n",
       " Text(0.9380281690140845, 0.62, 'gini = 0.0\\nsamples = 7\\nvalue = [0, 7]'),\n",
       " Text(0.9661971830985916, 0.7, 'x[2] <= 193.323\\ngini = 0.435\\nsamples = 25\\nvalue = [8, 17]'),\n",
       " Text(0.9605633802816902, 0.66, 'x[0] <= 49.5\\ngini = 0.386\\nsamples = 23\\nvalue = [6, 17]'),\n",
       " Text(0.9492957746478873, 0.62, 'x[2] <= 137.875\\ngini = 0.444\\nsamples = 6\\nvalue = [4, 2]'),\n",
       " Text(0.9436619718309859, 0.58, 'x[0] <= 47.5\\ngini = 0.32\\nsamples = 5\\nvalue = [4, 1]'),\n",
       " Text(0.9380281690140845, 0.54, 'gini = 0.0\\nsamples = 3\\nvalue = [3, 0]'),\n",
       " Text(0.9492957746478873, 0.54, 'x[2] <= 99.994\\ngini = 0.5\\nsamples = 2\\nvalue = [1, 1]'),\n",
       " Text(0.9436619718309859, 0.5, 'gini = 0.0\\nsamples = 1\\nvalue = [0, 1]'),\n",
       " Text(0.9549295774647887, 0.5, 'gini = 0.0\\nsamples = 1\\nvalue = [1, 0]'),\n",
       " Text(0.9549295774647887, 0.58, 'gini = 0.0\\nsamples = 1\\nvalue = [0, 1]'),\n",
       " Text(0.971830985915493, 0.62, 'x[0] <= 59.0\\ngini = 0.208\\nsamples = 17\\nvalue = [2, 15]'),\n",
       " Text(0.9661971830985916, 0.58, 'x[0] <= 51.5\\ngini = 0.346\\nsamples = 9\\nvalue = [2, 7]'),\n",
       " Text(0.9605633802816902, 0.54, 'gini = 0.0\\nsamples = 3\\nvalue = [0, 3]'),\n",
       " Text(0.971830985915493, 0.54, 'x[2] <= 78.958\\ngini = 0.444\\nsamples = 6\\nvalue = [2, 4]'),\n",
       " Text(0.9661971830985916, 0.5, 'gini = 0.0\\nsamples = 1\\nvalue = [0, 1]'),\n",
       " Text(0.9774647887323944, 0.5, 'x[2] <= 81.404\\ngini = 0.48\\nsamples = 5\\nvalue = [2, 3]'),\n",
       " Text(0.971830985915493, 0.46, 'gini = 0.0\\nsamples = 1\\nvalue = [1, 0]'),\n",
       " Text(0.9830985915492958, 0.46, 'x[2] <= 103.388\\ngini = 0.375\\nsamples = 4\\nvalue = [1, 3]'),\n",
       " Text(0.9774647887323944, 0.42, 'gini = 0.0\\nsamples = 2\\nvalue = [0, 2]'),\n",
       " Text(0.9887323943661972, 0.42, 'x[2] <= 133.369\\ngini = 0.5\\nsamples = 2\\nvalue = [1, 1]'),\n",
       " Text(0.9830985915492958, 0.38, 'gini = 0.0\\nsamples = 1\\nvalue = [1, 0]'),\n",
       " Text(0.9943661971830986, 0.38, 'gini = 0.0\\nsamples = 1\\nvalue = [0, 1]'),\n",
       " Text(0.9774647887323944, 0.58, 'gini = 0.0\\nsamples = 8\\nvalue = [0, 8]'),\n",
       " Text(0.971830985915493, 0.66, 'gini = 0.0\\nsamples = 2\\nvalue = [2, 0]'),\n",
       " Text(0.8894366197183099, 0.86, 'gini = 0.0\\nsamples = 3\\nvalue = [3, 0]'),\n",
       " Text(0.8950704225352113, 0.9, 'gini = 0.0\\nsamples = 7\\nvalue = [7, 0]')]"
      ]
     },
     "execution_count": 41,
     "metadata": {},
     "output_type": "execute_result"
    },
    {
     "data": {
      "image/png": "[encoded data removed]",
      "text/plain": [
       "<Figure size 640x480 with 1 Axes>"
      ]
     },
     "metadata": {},
     "output_type": "display_data"
    }
   ],
   "source": [
    "plot_tree(arbol) #Se dividen las predictores y target en train y test, obteniendo el árbol de decisión"
   ]
  },
  {
   "cell_type": "code",
   "execution_count": 42,
   "id": "d96be8de-96ea-4744-ae3d-2b0a64b1ba7a",
   "metadata": {},
   "outputs": [],
   "source": [
    "#Iniciamos las predicciones observando los datos arrojados.\n",
    "predicciones = arbol.predict(X_test)"
   ]
  },
  {
   "cell_type": "code",
   "execution_count": 43,
   "id": "d1a7fc90-1edb-4793-b6fa-6fbaa3cc7488",
   "metadata": {},
   "outputs": [
    {
     "data": {
      "text/plain": [
       "array([1, 1, 1, 0, 0, 1, 0, 0, 0, 0, 0, 1, 0, 0, 0, 0, 1, 0, 0, 0, 0, 1,\n",
       "       0, 0, 0, 0, 0, 0, 0, 1, 1, 0, 1, 0, 0, 1, 0, 0, 0, 0, 0, 0, 0, 1,\n",
       "       0, 1, 1, 1, 0, 0, 1, 1, 0, 0, 0, 1, 1, 0, 0, 0, 0, 0, 1, 0, 0, 0,\n",
       "       1, 1, 1, 0, 1, 0, 0, 0, 1, 0, 0, 1, 1, 1, 0, 0, 1, 1, 0, 0, 0, 1,\n",
       "       0, 0, 0, 0, 1, 1, 1, 1, 0, 0, 1, 0, 0, 1, 0, 0, 0, 0, 1, 0, 0, 0,\n",
       "       1, 0, 0, 1, 1, 0, 0, 0, 0, 0, 0, 1, 1, 0, 0, 0, 1, 1, 0, 0, 1, 1,\n",
       "       1, 0, 0, 0, 0, 1, 1, 0, 0, 1, 0, 1, 0, 0, 1, 0, 0, 0, 0, 1, 1, 0,\n",
       "       0, 0, 1, 0, 0, 1, 1, 1, 0, 1, 0, 0, 0, 1, 1, 0, 1, 1, 0, 1, 1, 1,\n",
       "       0, 1, 0], dtype=int64)"
      ]
     },
     "execution_count": 43,
     "metadata": {},
     "output_type": "execute_result"
    }
   ],
   "source": [
    "predicciones"
   ]
  },
  {
   "cell_type": "code",
   "execution_count": 44,
   "id": "712abe2f-74ec-45e9-b8cb-e56fb5620cee",
   "metadata": {},
   "outputs": [
    {
     "data": {
      "text/html": [
       "<div>\n",
       "<style scoped>\n",
       "    .dataframe tbody tr th:only-of-type {\n",
       "        vertical-align: middle;\n",
       "    }\n",
       "\n",
       "    .dataframe tbody tr th {\n",
       "        vertical-align: top;\n",
       "    }\n",
       "\n",
       "    .dataframe thead th {\n",
       "        text-align: right;\n",
       "    }\n",
       "</style>\n",
       "<table border=\"1\" class=\"dataframe\">\n",
       "  <thead>\n",
       "    <tr style=\"text-align: right;\">\n",
       "      <th>Predicciones</th>\n",
       "      <th>0</th>\n",
       "      <th>1</th>\n",
       "    </tr>\n",
       "    <tr>\n",
       "      <th>Actual</th>\n",
       "      <th></th>\n",
       "      <th></th>\n",
       "    </tr>\n",
       "  </thead>\n",
       "  <tbody>\n",
       "    <tr>\n",
       "      <th>0</th>\n",
       "      <td>83</td>\n",
       "      <td>27</td>\n",
       "    </tr>\n",
       "    <tr>\n",
       "      <th>1</th>\n",
       "      <td>28</td>\n",
       "      <td>41</td>\n",
       "    </tr>\n",
       "  </tbody>\n",
       "</table>\n",
       "</div>"
      ],
      "text/plain": [
       "Predicciones   0   1\n",
       "Actual              \n",
       "0             83  27\n",
       "1             28  41"
      ]
     },
     "execution_count": 44,
     "metadata": {},
     "output_type": "execute_result"
    }
   ],
   "source": [
    "pd.crosstab(np.array([y[0] for y in y_test.values.tolist()]), predicciones, rownames=['Actual'], colnames=['Predicciones'])"
   ]
  },
  {
   "cell_type": "code",
   "execution_count": 45,
   "id": "23166755-bd03-451f-8fdc-263ec59314be",
   "metadata": {},
   "outputs": [
    {
     "name": "stdout",
     "output_type": "stream",
     "text": [
      "Predicciones   0   1\n",
      "Actual              \n",
      "0             83  27\n",
      "1             28  41\n"
     ]
    }
   ],
   "source": [
    "#Examinamos la matriz de confusión encontrando los datos acertados. \n",
    "import numpy as np\n",
    "import pandas as pd\n",
    "import numpy as np\n",
    "import pandas as pd\n",
    "\n",
    "# Assuming y_test and predicciones are already defined\n",
    "confusion_matrix = pd.crosstab(\n",
    "    np.array([y[0] for y in y_test.values.tolist()]),\n",
    "    predicciones,\n",
    "    rownames=['Actual'],\n",
    "    colnames=['Predicciones']\n",
    ")\n",
    "\n",
    "print(confusion_matrix)"
   ]
  },
  {
   "cell_type": "code",
   "execution_count": 107,
   "id": "2e91d56b-aff5-4fb6-b0e3-d207f5231828",
   "metadata": {},
   "outputs": [],
   "source": [
    "from sklearn.metrics import accuracy_score"
   ]
  },
  {
   "cell_type": "code",
   "execution_count": 59,
   "id": "32ead609-ff2a-42f8-86eb-8732e856c9b2",
   "metadata": {},
   "outputs": [
    {
     "data": {
      "text/plain": [
       "0.6927374301675978"
      ]
     },
     "execution_count": 59,
     "metadata": {},
     "output_type": "execute_result"
    }
   ],
   "source": [
    "#Se evalúa el desempeño, las predicciones realizadas obteniendo como resultado 0.6927\n",
    "accuracy = accuracy_score(y_test,predicciones)\n",
    "accuracy"
   ]
  },
  {
   "cell_type": "code",
   "execution_count": 48,
   "id": "e71c7501-3443-4981-beeb-37d9923158bd",
   "metadata": {},
   "outputs": [],
   "source": [
    "from sklearn.metrics import precision_score"
   ]
  },
  {
   "cell_type": "code",
   "execution_count": 58,
   "id": "ded4cf58-9771-40e4-aff6-48e4eaf4a851",
   "metadata": {},
   "outputs": [
    {
     "data": {
      "text/plain": [
       "0.6919284549090661"
      ]
     },
     "execution_count": 58,
     "metadata": {},
     "output_type": "execute_result"
    }
   ],
   "source": [
    "#En la precisión obtenemos como resultado 0.6919\n",
    "precision = precision_score(y_test, predicciones, average='weighted')\n",
    "precision"
   ]
  },
  {
   "cell_type": "code",
   "execution_count": 51,
   "id": "f9226889-5476-4ab7-a130-395e351ac5e3",
   "metadata": {},
   "outputs": [],
   "source": [
    "from sklearn.metrics import recall_score"
   ]
  },
  {
   "cell_type": "code",
   "execution_count": 57,
   "id": "0c8a3be0-33b1-4192-a8fe-a06645d11235",
   "metadata": {},
   "outputs": [
    {
     "data": {
      "text/plain": [
       "0.6927374301675978"
      ]
     },
     "execution_count": 57,
     "metadata": {},
     "output_type": "execute_result"
    }
   ],
   "source": [
    "#En la sensibilidad obtenemos como resultado 0.6927\n",
    "recall = recall_score(y_test, predicciones, average='weighted')\n",
    "recall"
   ]
  },
  {
   "cell_type": "code",
   "execution_count": 54,
   "id": "51b825f7-f504-4196-8acc-c6bd6f1a6a29",
   "metadata": {},
   "outputs": [],
   "source": [
    "from sklearn.metrics import f1_score"
   ]
  },
  {
   "cell_type": "code",
   "execution_count": 56,
   "id": "e15ba518-09a4-4c1e-ac5d-f4f48b4a8ed7",
   "metadata": {},
   "outputs": [
    {
     "data": {
      "text/plain": [
       "0.6923111981124748"
      ]
     },
     "execution_count": 56,
     "metadata": {},
     "output_type": "execute_result"
    }
   ],
   "source": [
    "#En la media obtenemos como resultado  0.6923\n",
    "f1 = f1_score(y_test, predicciones, average='weighted')\n",
    "f1"
   ]
  }
 ],
 "metadata": {
  "kernelspec": {
   "display_name": "Python 3 (ipykernel)",
   "language": "python",
   "name": "python3"
  },
  "language_info": {
   "codemirror_mode": {
    "name": "ipython",
    "version": 3
   },
   "file_extension": ".py",
   "mimetype": "text/x-python",
   "name": "python",
   "nbconvert_exporter": "python",
   "pygments_lexer": "ipython3",
   "version": "3.12.4"
  }
 },
 "nbformat": 4,
 "nbformat_minor": 5
}
